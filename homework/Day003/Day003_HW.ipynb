{
 "cells": [
  {
   "cell_type": "markdown",
   "metadata": {},
   "source": [
    "# Python 下載XML檔案與解析\n",
    "\n",
    "\n",
    "* 了解 xml 檔案格式與內容\n",
    "* 能夠利用套件存取 xml 格式的檔案\n"
   ]
  },
  {
   "cell_type": "markdown",
   "metadata": {},
   "source": [
    "## 作業目標\n",
    "\n",
    "* 比較一下範例檔案中的「File I/O」與「xmltodict」讀出來的內容有什麼差異\n",
    "\n",
    "* 根據範例檔案的結果：\n",
    "    1. 請問高雄市有多少地區有溫度資料？\n",
    "    2. 請取出每一個地區所記錄的第一個時間點跟溫度\n",
    "    3. 請取出第一個地區所記錄的每一個時間點跟溫度"
   ]
  },
  {
   "cell_type": "markdown",
   "metadata": {},
   "source": [
    "### 比較一下範例檔案中的「File I/O」與「xmltodict」讀出來的內容有什麼差異\n"
   ]
  },
  {
   "cell_type": "code",
   "execution_count": null,
   "metadata": {},
   "outputs": [],
   "source": [
    "> File I/O 讀出整份完整的檔案，使用起來較不便。而xmltodict讀完檔案後，會整理成list的模式，方便存取。"
   ]
  },
  {
   "cell_type": "markdown",
   "metadata": {},
   "source": [
    "### 根據範例檔案的結果：\n",
    "\n",
    "1. 請問高雄市有多少地區有溫度資料？\n",
    "2. 請取出每一個地區所記錄的第一個時間點跟溫度\n",
    "3. 請取出第一個地區所記錄的每一個時間點跟溫度"
   ]
  },
  {
   "cell_type": "code",
   "execution_count": 64,
   "metadata": {},
   "outputs": [],
   "source": [
    "import urllib.request\n",
    "import zipfile\n",
    "res=\"http://opendata.cwb.gov.tw/govdownload?dataid=F-D0047-093&authorizationkey=rdec-key-123-45678-011121314\"\n",
    "urllib.request.urlretrieve(res,\"./data/example.zip\")\n",
    "f = zipfile.ZipFile('./data/example.zip')\n",
    "f.extractall('./data')\n",
    "import os,sys\n",
    "dirs=os.listdir('./data')\n",
    "fh=open('./data/64_72hr_CH.xml','r',encoding='utf-8')\n",
    "xml=fh.read()\n",
    "fh.close()\n",
    "import xmltodict\n",
    "d=dict(xmltodict.parse(xml))\n"
   ]
  },
  {
   "cell_type": "code",
   "execution_count": 62,
   "metadata": {},
   "outputs": [
    {
     "name": "stdout",
     "output_type": "stream",
     "text": "38\n"
    }
   ],
   "source": [
    "# 1. 請問高雄市有多少地區有溫度資料？\n",
    "\n",
    "localnames=d[\"cwbopendata\"][\"dataset\"][\"locations\"][\"location\"]\n",
    "print(len(localnames))\n"
   ]
  },
  {
   "cell_type": "code",
   "execution_count": 73,
   "metadata": {},
   "outputs": [
    {
     "name": "stdout",
     "output_type": "stream",
     "text": "鹽埕區 \t 時間:  2020-02-26T00:00:00+08:00 溫度: 23 攝氏度\n鼓山區 \t 時間:  2020-02-26T00:00:00+08:00 溫度: 23 攝氏度\n左營區 \t 時間:  2020-02-26T00:00:00+08:00 溫度: 22 攝氏度\n楠梓區 \t 時間:  2020-02-26T00:00:00+08:00 溫度: 22 攝氏度\n三民區 \t 時間:  2020-02-26T00:00:00+08:00 溫度: 23 攝氏度\n新興區 \t 時間:  2020-02-26T00:00:00+08:00 溫度: 24 攝氏度\n前金區 \t 時間:  2020-02-26T00:00:00+08:00 溫度: 23 攝氏度\n苓雅區 \t 時間:  2020-02-26T00:00:00+08:00 溫度: 24 攝氏度\n前鎮區 \t 時間:  2020-02-26T00:00:00+08:00 溫度: 24 攝氏度\n旗津區 \t 時間:  2020-02-26T00:00:00+08:00 溫度: 23 攝氏度\n小港區 \t 時間:  2020-02-26T00:00:00+08:00 溫度: 23 攝氏度\n鳳山區 \t 時間:  2020-02-26T00:00:00+08:00 溫度: 22 攝氏度\n林園區 \t 時間:  2020-02-26T00:00:00+08:00 溫度: 23 攝氏度\n大寮區 \t 時間:  2020-02-26T00:00:00+08:00 溫度: 23 攝氏度\n大樹區 \t 時間:  2020-02-26T00:00:00+08:00 溫度: 21 攝氏度\n大社區 \t 時間:  2020-02-26T00:00:00+08:00 溫度: 22 攝氏度\n仁武區 \t 時間:  2020-02-26T00:00:00+08:00 溫度: 22 攝氏度\n鳥松區 \t 時間:  2020-02-26T00:00:00+08:00 溫度: 22 攝氏度\n岡山區 \t 時間:  2020-02-26T00:00:00+08:00 溫度: 22 攝氏度\n橋頭區 \t 時間:  2020-02-26T00:00:00+08:00 溫度: 22 攝氏度\n燕巢區 \t 時間:  2020-02-26T00:00:00+08:00 溫度: 21 攝氏度\n田寮區 \t 時間:  2020-02-26T00:00:00+08:00 溫度: 20 攝氏度\n阿蓮區 \t 時間:  2020-02-26T00:00:00+08:00 溫度: 20 攝氏度\n路竹區 \t 時間:  2020-02-26T00:00:00+08:00 溫度: 22 攝氏度\n湖內區 \t 時間:  2020-02-26T00:00:00+08:00 溫度: 22 攝氏度\n茄萣區 \t 時間:  2020-02-26T00:00:00+08:00 溫度: 22 攝氏度\n永安區 \t 時間:  2020-02-26T00:00:00+08:00 溫度: 21 攝氏度\n彌陀區 \t 時間:  2020-02-26T00:00:00+08:00 溫度: 21 攝氏度\n梓官區 \t 時間:  2020-02-26T00:00:00+08:00 溫度: 22 攝氏度\n旗山區 \t 時間:  2020-02-26T00:00:00+08:00 溫度: 20 攝氏度\n美濃區 \t 時間:  2020-02-26T00:00:00+08:00 溫度: 21 攝氏度\n六龜區 \t 時間:  2020-02-26T00:00:00+08:00 溫度: 19 攝氏度\n甲仙區 \t 時間:  2020-02-26T00:00:00+08:00 溫度: 17 攝氏度\n杉林區 \t 時間:  2020-02-26T00:00:00+08:00 溫度: 19 攝氏度\n內門區 \t 時間:  2020-02-26T00:00:00+08:00 溫度: 18 攝氏度\n茂林區 \t 時間:  2020-02-26T00:00:00+08:00 溫度: 18 攝氏度\n桃源區 \t 時間:  2020-02-26T00:00:00+08:00 溫度: 17 攝氏度\n那瑪夏區 \t 時間:  2020-02-26T00:00:00+08:00 溫度: 15 攝氏度\n"
    }
   ],
   "source": [
    "# 2. 請取出每一個地區所記錄的第一個時間點跟溫度\n",
    "for local in localnames:\n",
    "    T=local[\"weatherElement\"][0][\"time\"][0]\n",
    "    print(local[\"locationName\"],\"\\t\",\"時間: \",T[\"dataTime\"],\"溫度:\",T[\"elementValue\"][\"value\"],T[\"elementValue\"][\"measures\"])"
   ]
  },
  {
   "cell_type": "code",
   "execution_count": 78,
   "metadata": {},
   "outputs": [
    {
     "name": "stdout",
     "output_type": "stream",
     "text": "鹽埕區\n時間:  2020-02-26T00:00:00+08:00 溫度: 23 攝氏度\n時間:  2020-02-26T03:00:00+08:00 溫度: 22 攝氏度\n時間:  2020-02-26T06:00:00+08:00 溫度: 22 攝氏度\n時間:  2020-02-26T09:00:00+08:00 溫度: 23 攝氏度\n時間:  2020-02-26T12:00:00+08:00 溫度: 27 攝氏度\n時間:  2020-02-26T15:00:00+08:00 溫度: 28 攝氏度\n時間:  2020-02-26T18:00:00+08:00 溫度: 26 攝氏度\n時間:  2020-02-26T21:00:00+08:00 溫度: 24 攝氏度\n時間:  2020-02-27T00:00:00+08:00 溫度: 22 攝氏度\n時間:  2020-02-27T03:00:00+08:00 溫度: 21 攝氏度\n時間:  2020-02-27T06:00:00+08:00 溫度: 21 攝氏度\n時間:  2020-02-27T09:00:00+08:00 溫度: 22 攝氏度\n時間:  2020-02-27T12:00:00+08:00 溫度: 25 攝氏度\n時間:  2020-02-27T15:00:00+08:00 溫度: 26 攝氏度\n時間:  2020-02-27T18:00:00+08:00 溫度: 24 攝氏度\n時間:  2020-02-27T21:00:00+08:00 溫度: 23 攝氏度\n時間:  2020-02-28T00:00:00+08:00 溫度: 22 攝氏度\n時間:  2020-02-28T03:00:00+08:00 溫度: 21 攝氏度\n時間:  2020-02-28T06:00:00+08:00 溫度: 21 攝氏度\n時間:  2020-02-28T09:00:00+08:00 溫度: 22 攝氏度\n時間:  2020-02-28T12:00:00+08:00 溫度: 25 攝氏度\n時間:  2020-02-28T15:00:00+08:00 溫度: 26 攝氏度\n時間:  2020-02-28T18:00:00+08:00 溫度: 25 攝氏度\n時間:  2020-02-28T21:00:00+08:00 溫度: 23 攝氏度\n"
    }
   ],
   "source": [
    "# 3. 請取出第一個地區所記錄的每一個時間點跟溫度\n",
    "firstlocation=localnames[0][\"weatherElement\"][0][\"time\"]\n",
    "print(localnames[0][\"locationName\"])\n",
    "for item in firstlocation:\n",
    "    print(\"時間: \",item[\"dataTime\"],\"溫度:\",item[\"elementValue\"][\"value\"],item[\"elementValue\"]['measures'])"
   ]
  },
  {
   "cell_type": "code",
   "execution_count": null,
   "metadata": {},
   "outputs": [],
   "source": []
  }
 ],
 "metadata": {
  "kernelspec": {
   "display_name": "Python 3",
   "language": "python",
   "name": "python3"
  },
  "language_info": {
   "codemirror_mode": {
    "name": "ipython",
    "version": 3
   },
   "file_extension": ".py",
   "mimetype": "text/x-python",
   "name": "python",
   "nbconvert_exporter": "python",
   "pygments_lexer": "ipython3",
   "version": "3.7.4-final"
  }
 },
 "nbformat": 4,
 "nbformat_minor": 2
}