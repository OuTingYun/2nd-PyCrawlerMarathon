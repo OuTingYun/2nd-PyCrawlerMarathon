{
 "cells": [
  {
   "cell_type": "markdown",
   "metadata": {},
   "source": [
    "# YAHOO電影爬蟲練習\n",
    "## 練習爬取電影放映資訊。必須逐步獲取電影的代號、放映地區、放映日期後，再送出查詢給伺服器。"
   ]
  },
  {
   "cell_type": "code",
   "execution_count": 2,
   "metadata": {},
   "outputs": [],
   "source": [
    "import re\n",
    "import requests\n",
    "from bs4 import BeautifulSoup\n",
    ""
   ]
  },
  {
   "cell_type": "markdown",
   "metadata": {},
   "source": [
    "### 先搜尋全部的電影代號(ID)資訊"
   ]
  },
  {
   "cell_type": "code",
   "execution_count": 3,
   "metadata": {
    "tags": [
     "outputPrepend"
    ]
   },
   "outputs": [
    {
     "output_type": "stream",
     "name": "stdout",
     "text": "AE%B6-matriarch-10515\">\n             電影介紹\n            </a>\n            <a class=\"btn_s_vedio gabtn\" data-ga=\"['上映中','上映中_上映中第1頁','囚愛之家']\" href=\"https://movies.yahoo.com.tw/video/%E5%9B%9A%E6%84%9B%E4%B9%8B%E5%AE%B6-%E4%B8%AD%E6%96%87%E9%A0%90%E5%91%8A-033841822.html?movie_id=10515\">\n             預告片\n            </a>\n            <a class=\"btn_s_foto\" href=\"https://movies.yahoo.com.tw/movieinfo_photos.html/id=10515\">\n             劇照\n            </a>\n            <a class=\"btn_s_time gabtn\" data-ga=\"['上映中','上映中_上映中第1頁','囚愛之家']\" href=\"https://movies.yahoo.com.tw/movietime_result.html/id=10515\">\n             時刻表\n            </a>\n           </div>\n          </div>\n         </li>\n         <li>\n          <div class=\"release_foto\">\n           <a class=\"gabtn\" data-ga=\"['上映中','上映中_上映中第1頁','神之一手：鬼手篇']\" href=\"https://movies.yahoo.com.tw/movieinfo_main/%E7%A5%9E%E4%B9%8B%E4%B8%80%E6%89%8B-%E9%AC%BC%E6%89%8B%E7%AF%87-the-divine-move-2-the-wrathful-10520\">\n            <img alt=\"\" src=\"https://movies.yahoo.com.tw/x/r/w420/i/o/production/movies/February2020/ZyHroRkuhHme4zcg1hhW-504x720.JPG\"/>\n           </a>\n          </div>\n          <div class=\"release_info\">\n           <div class=\"release_info_text\">\n            <div class=\"release_movie_name\">\n             <a class=\"gabtn\" data-ga=\"['上映中','上映中_上映中第1頁','神之一手：鬼手篇']\" href=\"https://movies.yahoo.com.tw/movieinfo_main/%E7%A5%9E%E4%B9%8B%E4%B8%80%E6%89%8B-%E9%AC%BC%E6%89%8B%E7%AF%87-the-divine-move-2-the-wrathful-10520\">\n              神之一手：鬼手篇\n             </a>\n             <div class=\"en\">\n              <a class=\"gabtn\" data-ga=\"['上映中','上映中_上映中第1頁','神之一手：鬼手篇']\" href=\"https://movies.yahoo.com.tw/movieinfo_main/%E7%A5%9E%E4%B9%8B%E4%B8%80%E6%89%8B-%E9%AC%BC%E6%89%8B%E7%AF%87-the-divine-move-2-the-wrathful-10520\">\n               ﻿The Divine Move 2: The Wrathful\n              </a>\n             </div>\n             <dl class=\"levelbox\">\n              <dt>\n               <div class=\"level_name\">\n                期待度\n               </div>\n               <div class=\"leveltext\">\n                <span>\n                 93%\n                </span>\n                網友想看\n               </div>\n              </dt>\n              <dd>\n               <div class=\"level_name\">\n                滿意度\n               </div>\n               <div class=\"leveltext\">\n                <span class=\"count\" data-num=\"4.2\" data-run=\"0\">\n                 0\n                </span>\n                綜合評分\n               </div>\n              </dd>\n             </dl>\n            </div>\n            <div class=\"release_movie_time\">\n             上映日期 ： 2020-03-20\n            </div>\n            <div class=\"release_text\">\n             <span class=\"jq_text_overflow_180 jq_text_overflow_href_list\" data-url=\"https://movies.yahoo.com.tw/movieinfo_main/%E7%A5%9E%E4%B9%8B%E4%B8%80%E6%89%8B-%E9%AC%BC%E6%89%8B%E7%AF%87-the-divine-move-2-the-wrathful-10520\">\n              ★ 性格男星權相佑賭上性命，挑戰史上最危險的棋局\n★ 韓國票房冠軍\n \n因為圍棋而失去一切的孩子「鬼手」（權相佑 飾），還失去了最敬重多師父許日道（金成均 飾），獨自一人活在這世上，充滿恨意的他決定向這世界報仇。不斷將自己逼入絕境的鬼手，在韓國各地如鬼怪般以圍棋向各路好手宣戰，究竟「神之一手」是否能再現呢？\n             </span>\n            </div>\n           </div>\n           <div class=\"release_btn color_btnbox\">\n            <a class=\"btn_s_introduction\" data-ga=\"['上映中','上映中_上映中第1頁','神之一手：鬼手篇']\" href=\"https://movies.yahoo.com.tw/movieinfo_main/%E7%A5%9E%E4%B9%8B%E4%B8%80%E6%89%8B-%E9%AC%BC%E6%89%8B%E7%AF%87-the-divine-move-2-the-wrathful-10520\">\n             電影介紹\n            </a>\n            <a class=\"btn_s_vedio gabtn\" data-ga=\"['上映中','上映中_上映中第1頁','神之一手：鬼手篇']\" href=\"https://movies.yahoo.com.tw/video/%E7%A5%9E%E4%B9%8B-%E6%89%8B-%E9%AC%BC%E6%89%8B%E7%AF%87-%E4%B8%AD%E6%96%87%E9%A0%90%E5%91%8A-100631594.html?movie_id=10520\">\n             預告片\n            </a>\n            <a class=\"btn_s_foto\" href=\"https://movies.yahoo.com.tw/movieinfo_photos.html/id=10520\">\n             劇照\n            </a>\n            <a class=\"btn_s_time gabtn\" data-ga=\"['上映中','上映中_上映中第1頁','神之一手：鬼手篇']\" href=\"https://movies.yahoo.com.tw/movietime_result.html/id=10520\">\n             時刻表\n            </a>\n           </div>\n          </div>\n         </li>\n         <li>\n          <div class=\"release_foto\">\n           <a class=\"gabtn\" data-ga=\"['上映中','上映中_上映中第1頁','不愛鋼琴師']\" href=\"https://movies.yahoo.com.tw/movieinfo_main/%E4%B8%8D%E6%84%9B%E9%8B%BC%E7%90%B4%E5%B8%AB-lara-10542\">\n            <img alt=\"\" src=\"https://movies.yahoo.com.tw/x/r/w420/i/o/production/movies/March2020/yueNGvWXoS3Q6unTahAk-505x720.jpg\"/>\n           </a>\n          </div>\n          <div class=\"release_info\">\n           <div class=\"release_info_text\">\n            <div class=\"release_movie_name\">\n             <a class=\"gabtn\" data-ga=\"['上映中','上映中_上映中第1頁','不愛鋼琴師']\" href=\"https://movies.yahoo.com.tw/movieinfo_main/%E4%B8%8D%E6%84%9B%E9%8B%BC%E7%90%B4%E5%B8%AB-lara-10542\">\n              不愛鋼琴師\n             </a>\n             <div class=\"en\">\n              <a class=\"gabtn\" data-ga=\"['上映中','上映中_上映中第1頁','不愛鋼琴師']\" href=\"https://movies.yahoo.com.tw/movieinfo_main/%E4%B8%8D%E6%84%9B%E9%8B%BC%E7%90%B4%E5%B8%AB-lara-10542\">\n               Lara\n              </a>\n             </div>\n             <dl class=\"levelbox\">\n              <dt>\n               <div class=\"level_name\">\n                期待度\n               </div>\n               <div class=\"leveltext\">\n                <span>\n                 67%\n                </span>\n                網友想看\n               </div>\n              </dt>\n              <dd>\n               <div class=\"level_name\">\n                滿意度\n               </div>\n               <div class=\"leveltext\">\n                <span class=\"count\" data-num=\"4.1\" data-run=\"0\">\n                 0\n                </span>\n                綜合評分\n               </div>\n              </dd>\n             </dl>\n            </div>\n            <div class=\"release_movie_time\">\n             上映日期 ： 2020-03-20\n            </div>\n            <div class=\"release_text\">\n             <span class=\"jq_text_overflow_180 jq_text_overflow_href_list\" data-url=\"https://movies.yahoo.com.tw/movieinfo_main/%E4%B8%8D%E6%84%9B%E9%8B%BC%E7%90%B4%E5%B8%AB-lara-10542\">\n              ★《噢！柏林男孩》導演睽違七年最新力作，權威影評一致盛讚，德國本土電影年度票房奇蹟\n★2019卡羅維瓦利影展 ★最佳女主角等三項大獎、德國慕尼黑影展費比西獎\n★2020德國電影評論學會 最佳影片等三項大獎入圍\n★「精緻而張力十足的電影！」—Variety\n★「引人入勝的精彩故事！」—Hollywood Reporter\n★「女主角強而有力的演出！」—Screen International\n \n一個完美母親，在黑白鍵自在游走卻卡著人生難題。\n一個不完美家庭，背後藏著遺憾繩結無法解開。\n一場獨奏會即將掀起家庭風暴.....\n \n曾被譽為天才鋼琴家的拉娜，為了相夫教子放棄了大好前程，卻沒料到此後人生卻不如自己規劃的順利。在六十歲生日當天，也是她的兒子維特首場鋼琴獨奏會，當發現兒子沒有邀請她，反而離異多年的老公和新女友被受邀前往時，她選擇不動聲色，暗自準備令人出乎意外的計畫。\n \n台灣文青傳頌神作，德國票房黑馬電影《噢！柏林男孩》睽違七年後，導演楊歐雷傑斯特再度推出票房口碑雙贏傑作，找來德國影壇常青樹柯琳娜哈佛克飾演靈魂人物的拉娜，精湛演技被譽為繼《進擊的鼓手》、《鋼琴教師》後，最冷冽無情的「惡魔教師」，但也注入不同腳色深度，全世界影壇一致盛讚她的演出，而獲得大小無數的入圍及獎項。\n             </span>\n            </div>\n           </div>\n           <div class=\"release_btn color_btnbox\">\n            <a class=\"btn_s_introduction\" data-ga=\"['上映中','上映中_上映中第1頁','不愛鋼琴師']\" href=\"https://movies.yahoo.com.tw/movieinfo_main/%E4%B8%8D%E6%84%9B%E9%8B%BC%E7%90%B4%E5%B8%AB-lara-10542\">\n             電影介紹\n            </a>\n            <a class=\"btn_s_vedio gabtn\" data-ga=\"['上映中','上映中_上映中第1頁','不愛鋼琴師']\" href=\"https://movies.yahoo.com.tw/video/%E4%B8%8D%E6%84%9B%E9%8B%BC%E7%90%B4%E5%B8%AB-%E4%B8%AD%E6%96%87%E9%A0%90%E5%91%8A-090418579.html?movie_id=10542\">\n             預告片\n            </a>\n            <a class=\"btn_s_foto\" href=\"https://movies.yahoo.com.tw/movieinfo_photos.html/id=10542\">\n             劇照\n            </a>\n            <a class=\"btn_s_time gabtn\" data-ga=\"['上映中','上映中_上映中第1頁','不愛鋼琴師']\" href=\"https://movies.yahoo.com.tw/movietime_result.html/id=10542\">\n             時刻表\n            </a>\n           </div>\n          </div>\n         </li>\n         <li>\n          <div class=\"release_foto\">\n           <a class=\"gabtn\" data-ga=\"['上映中','上映中_上映中第1頁','我的失蹤爸爸']\" href=\"https://movies.yahoo.com.tw/movieinfo_main/%E6%88%91%E7%9A%84%E5%A4%B1%E8%B9%A4%E7%88%B8%E7%88%B8-10546\">\n            <img alt=\"\" src=\"https://movies.yahoo.com.tw/x/r/w420/i/o/production/movies/March2020/KG9lLyUowgSk27MQDopr-504x720.jpg\"/>\n           </a>\n          </div>\n          <div class=\"release_info\">\n           <div class=\"release_info_text\">\n            <div class=\"release_movie_name\">\n             <a class=\"gabtn\" data-ga=\"['上映中','上映中_上映中第1頁','我的失蹤爸爸']\" href=\"https://movies.yahoo.com.tw/movieinfo_main/%E6%88%91%E7%9A%84%E5%A4%B1%E8%B9%A4%E7%88%B8%E7%88%B8-10546\">\n              我的失蹤爸爸\n             </a>\n             <div class=\"en\">\n              <a class=\"gabtn\" data-ga=\"['上映中','上映中_上映中第1頁','我的失蹤爸爸']\" href=\"https://movies.yahoo.com.tw/movieinfo_main/%E6%88%91%E7%9A%84%E5%A4%B1%E8%B9%A4%E7%88%B8%E7%88%B8-10546\">\n              </a>\n             </div>\n             <dl class=\"levelbox\">\n              <dt>\n               <div class=\"level_name\">\n                期待度\n               </div>\n               <div class=\"leveltext\">\n                <span>\n                 67%\n                </span>\n                網友想看\n               </div>\n              </dt>\n              <dd>\n               <div class=\"level_name\">\n                滿意度\n               </div>\n               <div class=\"leveltext\">\n                <span class=\"count\" data-num=\"4.0\" data-run=\"0\">\n                 0\n                </span>\n                綜合評分\n               </div>\n              </dd>\n             </dl>\n            </div>\n            <div class=\"release_movie_time\">\n             上映日期 ： 2020-03-20\n            </div>\n            <div class=\"release_text\">\n             <span class=\"jq_text_overflow_180 jq_text_overflow_href_list\" data-url=\"https://movies.yahoo.com.tw/movieinfo_main/%E6%88%91%E7%9A%84%E5%A4%B1%E8%B9%A4%E7%88%B8%E7%88%B8-10546\">\n              充滿愛與人情的小鎮，無條件張開雙手擁抱同樣曾經受傷的你\n人生長長的路要昂首闊步地走，心中的無限掛念輕輕寄予微風細雨理不清又解不開的親情繫絆，緣分細細纏繞溫柔守望\n \n【關於電影】\n \n夏天是戀愛的季節，大名鼎鼎的脫單神社正迎接一年一度的戀園祭，全鎮莫不摩拳擦掌，準備好好招待從各地湧來的善男信女。神社的一角，補習班主任六郎（立川談春  飾）正皺著眉頭一臉苦惱地向神明祈願。和溫柔的「戀園庵」茶坊女神玉枝姨（原田知世  飾）是一對人人稱羨的美滿眷侶，最近卻被無血緣的女兒麻衣子冷淡疏離而感到無比落寞。這一切被廟會攤販阿清（市原隼人  飾）看在眼底，沒想到身旁剛來到小鎮的俏麗女孩彩希（倉科加奈  飾）竟也流露出複雜的神情⋯⋯她與六郎叔之間有什麼難以傾訴的淵源？\n             </span>\n            </div>\n           </div>\n           <div class=\"release_btn color_btnbox\">\n            <a class=\"btn_s_introduction\" data-ga=\"['上映中','上映中_上映中第1頁','我的失蹤爸爸']\" href=\"https://movies.yahoo.com.tw/movieinfo_main/%E6%88%91%E7%9A%84%E5%A4%B1%E8%B9%A4%E7%88%B8%E7%88%B8-10546\">\n             電影介紹\n            </a>\n            <a class=\"btn_s_vedio gabtn\" data-ga=\"['上映中','上映中_上映中第1頁','我的失蹤爸爸']\" href=\"https://movies.yahoo.com.tw/video/%E6%88%91%E7%9A%84%E5%A4%B1%E8%B9%A4%E7%88%B8%E7%88%B8-%E4%B8%AD%E6%96%87%E9%A0%90%E5%91%8A-124941449.html?movie_id=10546\">\n             預告片\n            </a>\n            <a class=\"btn_s_foto\" href=\"https://movies.yahoo.com.tw/movieinfo_photos.html/id=10546\">\n             劇照\n            </a>\n            <a class=\"btn_s_time gabtn\" data-ga=\"['上映中','上映中_上映中第1頁','我的失蹤爸爸']\" href=\"https://movies.yahoo.com.tw/movietime_result.html/id=10546\">\n             時刻表\n            </a>\n           </div>\n          </div>\n         </li>\n         <li>\n          <div class=\"release_foto\">\n           <a class=\"gabtn\" data-ga=\"['上映中','上映中_上映中第1頁','鋼鐵勳章']\" href=\"https://movies.yahoo.com.tw/movieinfo_main/%E9%8B%BC%E9%90%B5%E5%8B%B3%E7%AB%A0-the-last-full-measure-10432\">\n            <img alt=\"\" src=\"https://movies.yahoo.com.tw/x/r/w420/i/o/production/movies/February2020/NT7iNSdvsjiTidmgQpMo-840x1200.jpg\"/>\n           </a>\n          </div>\n          <div class=\"release_info\">\n           <div class=\"release_info_text\">\n            <div class=\"release_movie_name\">\n             <a class=\"gabtn\" data-ga=\"['上映中','上映中_上映中第1頁','鋼鐵勳章']\" href=\"https://movies.yahoo.com.tw/movieinfo_main/%E9%8B%BC%E9%90%B5%E5%8B%B3%E7%AB%A0-the-last-full-measure-10432\">\n              鋼鐵勳章\n             </a>\n             <div class=\"en\">\n              <a class=\"gabtn\" data-ga=\"['上映中','上映中_上映中第1頁','鋼鐵勳章']\" href=\"https://movies.yahoo.com.tw/movieinfo_main/%E9%8B%BC%E9%90%B5%E5%8B%B3%E7%AB%A0-the-last-full-measure-10432\">\n               The Last Full Measure\n              </a>\n             </div>\n             <dl class=\"levelbox\">\n              <dt>\n               <div class=\"level_name\">\n                期待度\n               </div>\n               <div class=\"leveltext\">\n                <span>\n                 97%\n                </span>\n                網友想看\n               </div>\n              </dt>\n              <dd>\n               <div class=\"level_name\">\n                滿意度\n               </div>\n               <div class=\"leveltext\">\n                <span class=\"count\" data-num=\"4.2\" data-run=\"0\">\n                 0\n                </span>\n                綜合評分\n               </div>\n              </dd>\n             </dl>\n            </div>\n            <div class=\"release_movie_time\">\n             上映日期 ： 2020-03-13\n            </div>\n            <div class=\"release_text\">\n             <span class=\"jq_text_overflow_180 jq_text_overflow_href_list\" data-url=\"https://movies.yahoo.com.tw/movieinfo_main/%E9%8B%BC%E9%90%B5%E5%8B%B3%E7%AB%A0-the-last-full-measure-10432\">\n              ★ 真人真事震撼改編，見證史上最偉大的鋼鐵英雄！\n★ 耗時20年籌備製作，一個關於生存、榮譽、英勇的感人故事！\n★榮譽勳章背後不為人知的英勇祕辛，口碑感動全美，年度完美傑作！\n★震撼還原空軍搜救部隊場面，獲得美國國防部、美國空軍及陸軍的大力支持！\n★金獎卡司齊聚，山繆傑克森、賽巴斯汀史坦、威廉赫特等「漫威大將」同台飆戲！\n★ 好評口碑爭相傳頌，爛番茄觀眾96%高度評價！\n★《芝加哥太陽報》盛讚：「動人又難忘的故事，2020年第一部必看電影！」\n \n威廉皮森伯格（傑瑞米爾文飾演）是空軍空降救援醫療兵，在越戰中解救超過六十位弟兄，最後甚至放棄搭直升機離開戰場的機會，選擇繼續救援被留下的士兵們，最後被敵軍子彈射殺，為同袍犧牲自己寶貴的生命。他的英雄事蹟，讓他被授與士兵所能得到的最高榮譽──國會榮譽勳章，以此獎勵他所做出超越義務外的英勇作為。不過在勳章頒授之前，卻因為某些政治因素，皮森伯格應得的獎勵慘遭撤回。五角大廈調查員史考特霍夫曼（賽巴斯汀史坦飾演）被分配調查這件不公事件的原因，並在調查當中，發現腐敗的政治人物，以及他們拒絕授予勳章的個人及政治原因。這也讓史考特親自拜訪當年戰役中的生還者們，大家團結一心，開始為皮森伯格爭取他應得的榮譽…。\n \n【關於電影】\n \n《鋼鐵勳章》由拍攝過《幻影計畫》（Phantom）、被稱作「演員的導演」的陶德羅賓森（Todd Robinson）擔任編導，並找來《復仇者聯盟》山繆傑克森（Samuel L. Jackson）、《美國隊長2：酷寒戰士》（Captain America: The Winter Soldier）賽巴斯汀史坦（Sebastian Stan）、《美國隊長3》（Captain America: Civil War）威廉赫特（William Hurt）等漫威電影大將領銜主演。全片根據真實事件改編，描述一名與華盛頓政治機構對抗的五角大廈調查員，試圖與一群曾參與1966年「阿比林行動」的越戰老兵們，說服國會頒發榮譽勳章給一位英勇的空軍醫療兵「威廉皮森伯格」，因為這名醫療兵在越戰死傷最慘烈的戰爭裡，成功解救超過60位軍人的生命，即使最後一架直升機撤離，他仍待在原地繼續救人，直到自己也不幸犧牲…。\n \n本片耗時20年籌備製作，並獲得美國國防部、美國空軍及陸軍的大力支持。拍攝動機始於1999年時，陶德羅賓森正在幫沃爾夫岡彼得森（Wolfgang Peterson）執導的空降搜救電影進行準備工作。在拍片籌備過程當中，他拜訪了美國各地的空軍基地，並訪問空軍空降搜救組的空降兵，每個人都向他提起「威廉皮森伯格」這個無名英雄，以及他在越戰最血腥戰役中的英勇事蹟，還有當時正在替他爭取的榮譽勳章事件。2000年，陶德看著癌症末期的法蘭克皮森伯格，代表兒子接受榮譽勳章之後，法蘭克告訴台下的人，他最悲歎之事，就是無法看到兒子結婚生子，進而了解到父親對兒子的愛。陶德因此想起自己的父親，也曾看著尼克森總統在電視上的發言，害怕自己兒子被徵召的回憶。陶德因此大受啟發，想分享皮森伯格故事背後的深刻意義。於是陶德便與製片搭擋席尼謝爾曼（Sidney Sherman）等人，一同將這故事搬上大銀幕，並由賽巴斯汀史坦擔任主角，偕同多位奧斯卡、金球獎得主與入圍者共同演出。尤其電影上映之後，更是好評口碑爭相傳頌，並在「爛番茄」網站的觀眾評價中，獲得96%高分！《芝加哥太陽報》（Chicago Sun-Times）影評人理查洛普（Richard Roeper）更盛讚：「關於越戰及後續影響，是個動人又難忘的故事，更是2020年第一部必看電影！」\n             </span>\n            </div>\n           </div>\n           <div class=\"release_btn color_btnbox\">\n            <a class=\"btn_s_introduction\" data-ga=\"['上映中','上映中_上映中第1頁','鋼鐵勳章']\" href=\"https://movies.yahoo.com.tw/movieinfo_main/%E9%8B%BC%E9%90%B5%E5%8B%B3%E7%AB%A0-the-last-full-measure-10432\">\n             電影介紹\n            </a>\n            <a class=\"btn_s_vedio gabtn\" data-ga=\"['上映中','上映中_上映中第1頁','鋼鐵勳章']\" href=\"https://movies.yahoo.com.tw/video/%E9%8B%BC%E9%90%B5%E5%8B%B3%E7%AB%A0-%E4%B8%AD%E6%96%87%E9%A0%90%E5%91%8A-144804609.html?movie_id=10432\">\n             預告片\n            </a>\n            <a class=\"btn_s_foto\" href=\"https://movies.yahoo.com.tw/movieinfo_photos.html/id=10432\">\n             劇照\n            </a>\n            <a class=\"btn_s_time gabtn\" data-ga=\"['上映中','上映中_上映中第1頁','鋼鐵勳章']\" href=\"https://movies.yahoo.com.tw/movietime_result.html/id=10432\">\n             時刻表\n            </a>\n           </div>\n          </div>\n         </li>\n        </ul>\n       </div>\n       <div class=\"page_numbox\">\n        <ul>\n         <li class=\"num_ar\">\n          ‹\n         </li>\n         <li class=\"prevtxt disabled\">\n          <span>\n           上一頁\n          </span>\n         </li>\n         <li class=\"active\">\n          <span>\n           1\n          </span>\n         </li>\n         <li>\n          <a href=\"https://movies.yahoo.com.tw/movie_intheaters.html?page=2\">\n           2\n          </a>\n         </li>\n         <li>\n          <a href=\"https://movies.yahoo.com.tw/movie_intheaters.html?page=3\">\n           3\n          </a>\n         </li>\n         <li>\n          <a href=\"https://movies.yahoo.com.tw/movie_intheaters.html?page=4\">\n           4\n          </a>\n         </li>\n         <li>\n          <a href=\"https://movies.yahoo.com.tw/movie_intheaters.html?page=5\">\n           5\n          </a>\n         </li>\n         <li>\n          <a href=\"https://movies.yahoo.com.tw/movie_intheaters.html?page=6\">\n           6\n          </a>\n         </li>\n         <li>\n          <a href=\"https://movies.yahoo.com.tw/movie_intheaters.html?page=7\">\n           7\n          </a>\n         </li>\n         <li>\n          <a href=\"https://movies.yahoo.com.tw/movie_intheaters.html?page=8\">\n           8\n          </a>\n         </li>\n         <li>\n          <a href=\"https://movies.yahoo.com.tw/movie_intheaters.html?page=9\">\n           9\n          </a>\n         </li>\n         <li class=\"nexttxt\">\n          <a href=\"https://movies.yahoo.com.tw/movie_intheaters.html?page=2\" rel=\"next\">\n           下一頁\n          </a>\n         </li>\n         <li class=\"num_ar\">\n          ›\n         </li>\n        </ul>\n       </div>\n      </div>\n     </div>\n    </div>\n   </main>\n   <footer class=\"clearfix\" id=\"footer\" style=\"display: block;\">\n    <div id=\"loadbox\">\n     <a class=\"gabtn\" data-ga=\"['其他連結','其他連結_服務中心','頁尾_其他連結']\" href=\"https://tw.help.yahoo.com/kb/helpcentral\" target=\"_blank\">\n      服務中心\n     </a>\n     |\n     <a class=\"gabtn\" data-ga=\"['其他連結','其他連結_隱私權','頁尾_其他連結']\" href=\"https://policies.yahoo.com/tw/zh-hant/yahoo/privacy/index.htm\" target=\"_blank\">\n      隱私權(更新)\n     </a>\n     |\n     <a class=\"gabtn\" data-ga=\"['其他連結','其他連結_建議','頁尾_其他連結']\" href=\"https://yahoo.uservoice.com/forums/600523\" target=\"_blank\">\n      建議\n     </a>\n     |\n     <a class=\"gabtn\" data-ga=\"['其他連結','其他連結_關於我們的廣告','頁尾_其他連結']\" href=\"https://policies.yahoo.com/tw/zh-hant/yahoo/privacy/adinfo/\" target=\"_blank\">\n      關於我們的廣告\n     </a>\n     |\n     <a class=\"gabtn\" data-ga=\"['其他連結','其他連結_服務條款','頁尾_其他連結']\" href=\"https://info.yahoo.com/legal/tw/yahoo/utos/zh-hant-tw/\" target=\"_blank\">\n      服務條款(更新)\n     </a>\n     |\n     <a href=\"\" target=\"_blank\">\n     </a>\n     由Yahoo奇摩電影 提供\n    </div>\n   </footer>\n  </div>\n  <!-- Javascript -->\n  <script src=\"https://s.yimg.com/ss/rapid3.js\">\n  </script>\n  <script src=\"https://s.yimg.com/ss/rapidworker-1.2.js\">\n  </script>\n  <!-- Native Ad -->\n  <script type=\"text/javascript\">\n   const nativeAdAll = \"bdd2eb9c-51e8-404a-921c-ae7090fc5fda\";\n  const nativeAdOption = \"\";\n\n  window.native = window.native || [];\n  window.native.push(nativeAdAll);\n  if(nativeAdOption.length) {\n    window.native.push(nativeAdOption);\n  }\n  window.apiKey = \"QS4CB5BPWQKCYKVVSR89\";\n\n  (function(d) {\n    var script = d.createElement(\"script\");\n    script.async = true;\n    script.src = \"https://s.yimg.com/dy/ads/native.js\";\n    d.body.appendChild(script);\n  })(document);\n  </script>\n  <script src=\"/build/js/app.js?id=4c505b2df8739bb6f23d&amp;r=1555478321\" type=\"text/javascript\">\n  </script>\n  <noscript>\n   <img alt=\"\" height=\"1\" src=\"https://sb.scorecardresearch.com/p?c1=2&amp;c2=7241469&amp;c7=https%3A%2F%2Fmovies.yahoo.com.tw%2Fmovie_intheaters.html&amp;c5=794026717&amp;cv=2.0&amp;cj=1\" width=\"1\"/>\n  </noscript>\n  <script>\n  </script>\n  <script type=\"application/javascript\">\n   (function (w, d, t, r, u) {\n    w[u] = w[u] || []\n    w[u].push({\n      'projectId': '10000',\n      'properties': {\n        'pixelId': '428726',\n        'qstrings': {'country': 'tw', 'property': 'movie', 'tag': ''}\n      }\n    })\n    var s = d.createElement(t)\n    s.src = r\n    s.async = true\n    s.onload = s.onreadystatechange = function () {\n      var y, rs = this.readyState, c = w[u]\n      if (rs && rs != 'complete' && rs != 'loaded') {return}\n      try {\n        y = YAHOO.ywa.I13N.fireBeacon\n        w[u] = []\n        w[u].push = function (p) {y([p])}\n        y(c)\n      } catch (e) {}\n    }\n    var scr = d.getElementsByTagName(t)[0], par = scr.parentNode\n    par.insertBefore(s, scr)\n  })(window, document, 'script', 'https://s.yimg.com/wi/ytc.js', 'dotq')\n  </script>\n </body>\n</html>\n\n"
    }
   ],
   "source": [
    "# 查看目前上映那些電影，並擷取出其ID資訊\n",
    "url = 'https://movies.yahoo.com.tw/movie_intheaters.html'\n",
    "r=requests.get(url)\n",
    "r.encoding='utf-8'\n",
    "\n",
    "soup=BeautifulSoup(r.text,'lxml')\n",
    "print(soup.prettify())"
   ]
  },
  {
   "cell_type": "code",
   "execution_count": 4,
   "metadata": {
    "tags": [
     "outputPrepend"
    ]
   },
   "outputs": [
    {
     "output_type": "stream",
     "name": "stdout",
     "text": "[{'id': '10487', 'name': '依然相信'}, {'id': '10494', 'name': '我出去醫下'}, {'id': '10499', 'name': '最後晚安曲'}, {'id': '10502', 'name': '搖滾師匠：細野晴臣'}, {'id': '10508', 'name': 'A+瞎妹'}, {'id': '10515', 'name': '囚愛之家'}, {'id': '10520', 'name': '神之一手：鬼手篇'}, {'id': '10542', 'name': '不愛鋼琴師'}, {'id': '10546', 'name': '我的失蹤爸爸'}, {'id': '10432', 'name': '鋼鐵勳章'}]\n"
    }
   ],
   "source": [
    "movie_url=soup.find_all('a',class_=\"btn_s_vedio gabtn\")\n",
    "movie_id=[]\n",
    "movie=[]\n",
    "for link in movie_url:\n",
    "    movie_id.append(link.get('href').split(\"movie_id=\")[1])\n",
    "movie_name_old=soup.find_all(\"div\",class_=\"release_movie_name\")\n",
    "movie_name=[item.a.text.replace(\" \",\"\").replace(\"\\n\",\"\") for item in movie_name_old]\n",
    "for i in range(0,len(movie_id)):\n",
    "    movie.append({\"id\":movie_id[i],\"name\":movie_name[i]})\n",
    "print(movie)"
   ]
  },
  {
   "cell_type": "markdown",
   "metadata": {},
   "source": [
    "### 指定你有興趣的電影其ID，然後查詢其放映地區資訊。"
   ]
  },
  {
   "cell_type": "code",
   "execution_count": 5,
   "metadata": {},
   "outputs": [
    {
     "output_type": "stream",
     "name": "stdout",
     "text": "[{'name': '我的失蹤爸爸', 'id': '10546'}, {'name': '不愛鋼琴師', 'id': '10542'}, {'name': '神之一手：鬼手篇', 'id': '10520'}, {'name': '囚愛之家', 'id': '10515'}, {'name': 'A+瞎妹', 'id': '10508'}, {'name': '搖滾師匠：細野晴臣', 'id': '10502'}, {'name': '最後晚安曲', 'id': '10499'}, {'name': '我出去醫下', 'id': '10494'}, {'name': '依然相信', 'id': '10487'}, {'name': '電影版 地獄少女', 'id': '10525'}, {'name': '刺激1995', 'id': '10518'}, {'name': '通靈少年2020', 'id': '10517'}, {'name': '安雅的回家路', 'id': '10516'}, {'name': '牆內的房客', 'id': '10512'}, {'name': '南山的部長們', 'id': '10509'}, {'name': '另類神父', 'id': '10500'}, {'name': '破．局', 'id': '10496'}, {'name': '劇場版 不起眼女主角培育法 Fine', 'id': '10486'}, {'name': '複製柔伊', 'id': '10455'}, {'name': '練愛iNG', 'id': '10442'}, {'name': '鋼鐵勳章', 'id': '10432'}, {'name': '我，最親愛的', 'id': '10503'}, {'name': '血衛', 'id': '10469'}, {'name': '導演先生的完美假期', 'id': '10545'}, {'name': '大地蜜語', 'id': '10513'}, {'name': '狂飆一夢', 'id': '10506'}, {'name': '親愛的莎瑪', 'id': '10491'}, {'name': '大畫特務', 'id': '10478'}, {'name': '戰慄糖果屋', 'id': '10472'}, {'name': '明明會說話', 'id': '10440'}, {'name': '艾瑪', 'id': '10396'}, {'name': '罪樂園', 'id': '10349'}, {'name': '鳴鳥不飛：烏雲密布', 'id': '10458'}, {'name': '哥布林殺手 劇場版', 'id': '10438'}, {'name': '女鬼橋', 'id': '10437'}, {'name': '怨咒', 'id': '10421'}, {'name': '娘娘腔日記', 'id': '10401'}, {'name': '極地守護犬', 'id': '10383'}, {'name': '叔．叔', 'id': '10371'}, {'name': '隱形人', 'id': '10359'}, {'name': '電影音效傳奇：好萊塢之聲', 'id': '10484'}, {'name': '悲慘世界', 'id': '10479'}, {'name': '陰櫥', 'id': '10457'}, {'name': '絕命大平台', 'id': '10447'}, {'name': '李察朱威爾事件', 'id': '10368'}, {'name': '音速小子', 'id': '9246'}, {'name': '逃出夢幻島', 'id': '10485'}, {'name': '雨天．紐約', 'id': '10476'}, {'name': '超＂人＂氣動物園', 'id': '10445'}, {'name': '全境失控', 'id': '10426'}, {'name': '我的寶貝男孩', 'id': '10489'}, {'name': '猛禽小隊：小丑女大解放', 'id': '10268'}, {'name': '王牌辯士', 'id': '10346'}, {'name': '紅鞋公主與七矮人', 'id': '10417'}, {'name': '1917', 'id': '10189'}, {'name': '她們', 'id': '10202'}, {'name': '變身特務', 'id': '9008'}, {'name': '巧虎電影：英雄遊樂園', 'id': '10429'}, {'name': '青春催落去', 'id': '10404'}, {'name': '絕地戰警FOR LIFE', 'id': '10242'}, {'name': '星星知我心', 'id': '10409'}, {'name': '逃出天堂島', 'id': '10384'}, {'name': '別告訴她', 'id': '10382'}, {'name': '真愛裁會贏', 'id': '10362'}, {'name': '霹靂嬌娃', 'id': '10124'}, {'name': 'CATS貓', 'id': '10166'}, {'name': '燃燒女子的畫像', 'id': '10069'}, {'name': 'STAR WARS : 天行者的崛起', 'id': '10225'}, {'name': '8級警戒', 'id': '10323'}, {'name': '去年聖誕節', 'id': '10256'}, {'name': '野蠻遊戲：全面晉級', 'id': '10134'}, {'name': '賽道狂人', 'id': '10097'}, {'name': '冰雪奇緣2', 'id': '9597'}, {'name': '絕鯊47：猛鯊出籠', 'id': '10214'}, {'name': '貓咪知道但是貓咪不說', 'id': '10203'}, {'name': '寄生上流', 'id': '10020'}, {'name': '人生最後一場拍賣會', 'id': '10073'}, {'name': '失控危城', 'id': '9710'}, {'name': '假面飯店', 'id': '9641'}, {'name': '潛艦獵殺令', 'id': '8828'}, {'name': '在咖啡冷掉之前', 'id': '8730'}, {'name': '一首搖滾上月球', 'id': '4887'}, {'name': '錢不夠用2', 'id': '3026'}]\n"
    }
   ],
   "source": [
    "# 參考前一個步驟中擷取到的ID資訊，並指定ID\n",
    "s_movieid=soup.find(\"select\",attrs={\"name\":\"movie_id\"}).find_all(\"option\",attrs={'data-name':re.compile('.*')})\n",
    "# for item in s_movieid:\n",
    "#     print(item.get(\"value\"))\n",
    "s_movie=[{\"name\":item.text,\"id\":item.get(\"value\")}for item in s_movieid]\n",
    "print(s_movie)"
   ]
  },
  {
   "cell_type": "code",
   "execution_count": 6,
   "metadata": {},
   "outputs": [
    {
     "output_type": "stream",
     "name": "stdout",
     "text": "放映地區: 台北市, 代號(area_id): 28\n放映地區: 桃園, 代號(area_id): 16\n放映地區: 台中, 代號(area_id): 2\n放映地區: 台南, 代號(area_id): 10\n放映地區: 高雄, 代號(area_id): 17\n放映地區: 屏東, 代號(area_id): 14\n"
    }
   ],
   "source": [
    "url = 'https://movies.yahoo.com.tw/api/v1/areas_by_movie_theater'\n",
    "# f12 中丟入值會得到的當案url 會回傳 response整個html的資料\n",
    "idmovie=s_movie[5]['id']\n",
    "# print(idmovie)\n",
    "#檔案下面有一個 Query  String Parameters裡面有寫要甚麼，放進payload裡面\n",
    "payload = {'movie_id':idmovie}\n",
    "area_id = 28\n",
    "# 模擬一個header\n",
    "#不需要這麼多東西，但第一次可以先全部加進來。\n",
    "headers = {\n",
    "    'path': '/movietime_result.html?movie_id='+idmovie+'&area_id=28',\n",
    "    'mv-authorization': '21835b082e15b91a69b3851eec7b31b82ce82afb',\n",
    "}\n",
    "    \n",
    "resp = requests.get(url, params=payload, headers=headers)\n",
    "# print(resp.json())  # 若有需要，列印出json原始碼\n",
    "# 接js回傳而改變html的地方\n",
    "\n",
    "\n",
    "# 這裡回傳的格式是JSON格式的資料，要解析JSON擷取資料\n",
    "for p in resp.json():\n",
    "    print('放映地區: {0}, 代號(area_id): {1}'.format(p['title'], p['area_id']))"
   ]
  },
  {
   "cell_type": "markdown",
   "metadata": {},
   "source": [
    "### 指定你想要觀看的放映地區，查詢有上映電影的場次日期"
   ]
  },
  {
   "cell_type": "code",
   "execution_count": 7,
   "metadata": {},
   "outputs": [],
   "source": [
    "# 指定放映地區\n",
    ""
   ]
  },
  {
   "cell_type": "code",
   "execution_count": 8,
   "metadata": {},
   "outputs": [
    {
     "output_type": "stream",
     "name": "stdout",
     "text": "三月 23\n三月 24\n三月 25\n三月 26\n三月 27\n"
    }
   ],
   "source": [
    "url = 'https://movies.yahoo.com.tw/movietime_result.html'\n",
    "payload = {'movie_id':str(idmovie), 'area_id':str(area_id)}\n",
    "resp = requests.get(url, params=payload)\n",
    "resp.encoding = 'utf-8'\n",
    "\n",
    "soup = BeautifulSoup(resp.text, 'lxml')\n",
    "movie_date = soup.find_all(\"label\", attrs={'for':re.compile(\"date_[\\d]\")})\n",
    "\n",
    "# 列印播放日期\n",
    "for date in movie_date:\n",
    "    print(\"%s %s\" % (date.p.string, date.h3.string))"
   ]
  },
  {
   "cell_type": "markdown",
   "metadata": {},
   "source": [
    "### 最後指定觀看的日期，查詢並列印出放映的電影院、放映類型(數位、3D、IMAX 3D...)、放映時間等資訊。"
   ]
  },
  {
   "cell_type": "code",
   "execution_count": 13,
   "metadata": {},
   "outputs": [],
   "source": []
  },
  {
   "cell_type": "code",
   "execution_count": 14,
   "metadata": {},
   "outputs": [],
   "source": []
  },
  {
   "cell_type": "code",
   "execution_count": 33,
   "metadata": {
    "tags": [
     "outputPrepend"
    ]
   },
   "outputs": [
    {
     "output_type": "stream",
     "name": "stdout",
     "text": "{'name': '搖滾師匠：細野晴臣\\n      No Smoking\\n'}\n"
    }
   ],
   "source": [
    "'''\n",
    "\n",
    "  試著從上一步驟回傳的電影院資料中，擷取電影院名稱、影片放映類型以及時間表\n",
    "  \n",
    "  Your code here.\n",
    "\n",
    "'''\n",
    "# print(soup.prettify())\n",
    "name=soup.find_all('h1',class_=\"inform_title\")\n",
    "name_list=[{\"name\":item.text}for item in name]\n",
    "print(name_list[0])"
   ]
  },
  {
   "cell_type": "code",
   "execution_count": null,
   "metadata": {},
   "outputs": [],
   "source": []
  }
 ],
 "metadata": {
  "kernelspec": {
   "display_name": "Python 3",
   "language": "python",
   "name": "python3"
  },
  "language_info": {
   "codemirror_mode": {
    "name": "ipython",
    "version": 3
   },
   "file_extension": ".py",
   "mimetype": "text/x-python",
   "name": "python",
   "nbconvert_exporter": "python",
   "pygments_lexer": "ipython3",
   "version": "3.7.4-final"
  }
 },
 "nbformat": 4,
 "nbformat_minor": 2
}