{
 "cells": [
  {
   "cell_type": "markdown",
   "metadata": {},
   "source": [
    "# API 資料串接 - 以 Dcard API 實作範例\n",
    "\n",
    "* 了解 Dcard API 使用方式與回傳內容\n",
    "* 撰寫程式存取 API 且解析 JSON 格式資料\n"
   ]
  },
  {
   "cell_type": "markdown",
   "metadata": {},
   "source": [
    "## 作業目標\n",
    "\n",
    "* 請利用 API: https://www.dcard.tw/_api/forums/pet/posts?popular=true 回答下列問題：\n",
    "\n",
    "1. 這個 API 一次會回傳幾筆資料？每一筆資料包含哪些欄位？\n",
    "2. 取出每一筆資料的「標題」、「貼文時間」、「留言人數」、「按讚人數」\n",
    "3. 計算熱門/非熱門文章的「平均留言人數」與「平均按讚人數」"
   ]
  },
  {
   "cell_type": "code",
   "execution_count": 9,
   "metadata": {},
   "outputs": [
    {
     "data": {
      "text/plain": "4-0890-42f9-8243-56cf264fb763',\n    'url': 'https://i.imgur.com/U2f1iI0.jpg',\n    'normalizedUrl': 'https://imgur.com/U2f1iI0',\n    'thumbnail': 'https://i.imgur.com/U2f1iI0l.jpg',\n    'type': 'image/imgur',\n    'tags': ['ANNOTATED'],\n    'createdAt': '2020-02-28T12:43:11.635Z',\n    'updatedAt': '2020-02-28T12:46:23.718Z'},\n   {'id': '7ecf4119-8822-4d46-9328-f3731c69b71e',\n    'url': 'https://i.imgur.com/74GdmyY.jpg',\n    'normalizedUrl': 'https://imgur.com/74GdmyY',\n    'thumbnail': 'https://i.imgur.com/74GdmyYl.jpg',\n    'type': 'image/imgur',\n    'tags': ['ANNOTATED'],\n    'createdAt': '2020-02-28T12:43:11.635Z',\n    'updatedAt': '2020-02-28T12:46:23.718Z'},\n   {'id': '02dc3445-849e-4ee6-9205-b9b1ec3e9a64',\n    'url': 'https://i.imgur.com/n5RC1Yn.jpg',\n    'normalizedUrl': 'https://imgur.com/n5RC1Yn',\n    'thumbnail': 'https://i.imgur.com/n5RC1Ynl.jpg',\n    'type': 'image/imgur',\n    'tags': ['ANNOTATED'],\n    'createdAt': '2020-02-28T12:43:11.635Z',\n    'updatedAt': '2020-02-28T12:46:23.718Z'}],\n  'reactions': [{'id': '286f599c-f86a-4932-82f0-f5a06f1eca03', 'count': 8}],\n  'hidden': False,\n  'customStyle': None,\n  'isSuspiciousAccount': False,\n  'layout': 'classic',\n  'withImages': True,\n  'withVideos': False,\n  'media': [{'url': 'https://i.imgur.com/U2f1iI0.jpg'},\n   {'url': 'https://i.imgur.com/74GdmyY.jpg'},\n   {'url': 'https://i.imgur.com/n5RC1Yn.jpg'}],\n  'reportReasonText': '',\n  'postAvatar': ''},\n {'id': 233154180,\n  'title': '尋狗 新莊夜市走丟的',\n  'excerpt': '黑色米克斯母犬，在新莊夜市附近走丟的，再麻煩新莊的朋友有看到的話，幫忙注意一下，謝謝謝謝',\n  'anonymousSchool': False,\n  'anonymousDepartment': True,\n  'pinned': False,\n  'forumId': '7ee21581-1307-4ba9-b9dc-82028bdcca49',\n  'replyId': None,\n  'createdAt': '2020-02-28T02:57:24.261Z',\n  'updatedAt': '2020-02-28T02:57:24.261Z',\n  'commentCount': 0,\n  'likeCount': 8,\n  'withNickname': False,\n  'tags': [],\n  'topics': ['尋狗', '新莊', '寵物', '米克斯', '狗'],\n  'meta': {'layout': 'classic'},\n  'forumName': '寵物',\n  'forumAlias': 'pet',\n  'gender': 'F',\n  'school': '輔仁大學',\n  'replyTitle': None,\n  'mediaMeta': [{'id': '0f4caefc-a51c-483c-a091-12dd43bd73d2',\n    'url': 'https://i.imgur.com/748Qr7hl.jpg',\n    'normalizedUrl': 'https://i.imgur.com/748Qr7hl.jpg',\n    'thumbnail': 'https://i.imgur.com/748Qr7hl.jpg',\n    'type': 'image/thumbnail',\n    'tags': ['ANNOTATED'],\n    'createdAt': '2020-02-28T02:57:24.261Z',\n    'updatedAt': '2020-02-28T02:57:24.261Z'},\n   {'id': '0f4caefc-a51c-483c-a091-12dd43bd73d2',\n    'url': 'https://i.imgur.com/748Qr7h.jpg',\n    'normalizedUrl': 'https://imgur.com/748Qr7h',\n    'thumbnail': 'https://i.imgur.com/748Qr7hl.jpg',\n    'type': 'image/imgur',\n    'tags': ['ANNOTATED'],\n    'createdAt': '2020-02-28T02:57:24.261Z',\n    'updatedAt': '2020-02-28T02:57:24.261Z'}],\n  'reactions': [{'id': '286f599c-f86a-4932-82f0-f5a06f1eca03', 'count': 7},\n   {'id': 'e8e6bc5d-41b0-4129-b134-97507523d7ff', 'count': 1}],\n  'hidden': False,\n  'customStyle': None,\n  'isSuspiciousAccount': False,\n  'layout': 'classic',\n  'withImages': True,\n  'withVideos': False,\n  'media': [{'url': 'https://i.imgur.com/748Qr7h.jpg'}],\n  'reportReasonText': '',\n  'postAvatar': ''},\n {'id': 233160473,\n  'title': '臘腸PK貓咪 壓在地上打！',\n  'excerpt': '頑皮的臘腸總是欺負哥哥，還好哥哥都會讓她',\n  'anonymousSchool': False,\n  'anonymousDepartment': True,\n  'pinned': False,\n  'forumId': '7ee21581-1307-4ba9-b9dc-82028bdcca49',\n  'replyId': None,\n  'createdAt': '2020-02-29T04:20:14.030Z',\n  'updatedAt': '2020-02-29T04:20:14.030Z',\n  'commentCount': 0,\n  'likeCount': 7,\n  'withNickname': False,\n  'tags': [],\n  'topics': ['臘腸', '貓', '狗', '寵物', '可愛'],\n  'meta': {'layout': 'classic'},\n  'forumName': '寵物',\n  'forumAlias': 'pet',\n  'gender': 'M',\n  'school': '靜宜大學',\n  'replyTitle': None,\n  'mediaMeta': [{'id': '48eefec5-f000-481d-ad70-a3d6b61b1fe4',\n    'url': 'https://i.imgur.com/NZ4qOj0l.jpg',\n    'normalizedUrl': 'https://i.imgur.com/NZ4qOj0l.jpg',\n    'thumbnail': 'https://i.imgur.com/NZ4qOj0l.jpg',\n    'type': 'image/thumbnail',\n    'tags': ['ANNOTATED'],\n    'createdAt': '2020-02-29T04:20:14.030Z',\n    'updatedAt': '2020-02-29T04:20:14.030Z'},\n   {'id': '48eefec5-f000-481d-ad70-a3d6b61b1fe4',\n    'url': 'https://i.imgur.com/NZ4qOj0.jpg',\n    'normalizedUrl': 'https://imgur.com/NZ4qOj0',\n    'thumbnail': 'https://i.imgur.com/NZ4qOj0l.jpg',\n    'type': 'image/imgur',\n    'tags': ['ANNOTATED'],\n    'createdAt': '2020-02-29T04:20:14.030Z',\n    'updatedAt': '2020-02-29T04:20:14.030Z'},\n   {'id': '5c8e8acb-5e7e-41c0-b583-8478941c7ec2',\n    'url': 'https://i.imgur.com/B7jGgNz.jpg',\n    'normalizedUrl': 'https://imgur.com/B7jGgNz',\n    'thumbnail': 'https://i.imgur.com/B7jGgNzl.jpg',\n    'type': 'image/imgur',\n    'tags': ['ANNOTATED'],\n    'createdAt': '2020-02-29T04:20:14.030Z',\n    'updatedAt': '2020-02-29T04:20:14.030Z'},\n   {'id': 'd2e8f8b5-d5d7-4b16-8674-e9f61cd735e5',\n    'url': 'https://www.dcard.tw/v2/vivid/videos/860a276e-b0d9-4cd6-9edb-d07da3a65d1d?r=1.7777777777777777',\n    'normalizedUrl': '',\n    'thumbnail': 'https://vivid.dcard.tw/Public/860a276e-b0d9-4cd6-9edb-d07da3a65d1d/thumbnail.jpg',\n    'type': 'video/vivid',\n    'tags': ['ANNOTATED_FAILED'],\n    'createdAt': '2020-02-29T04:20:14.030Z',\n    'updatedAt': '2020-02-29T04:20:14.030Z'},\n   {'id': '23fa1a08-867c-4849-84fe-1beeb7ea5328',\n    'url': 'https://www.dcard.tw/v2/vivid/videos/55405093-977d-4b51-bc00-f1f1ede0fb51?r=1.7777777777777777',\n    'normalizedUrl': '',\n    'thumbnail': 'https://vivid.dcard.tw/Public/55405093-977d-4b51-bc00-f1f1ede0fb51/thumbnail.jpg',\n    'type': 'video/vivid',\n    'tags': ['ANNOTATED_FAILED'],\n    'createdAt': '2020-02-29T04:20:14.030Z',\n    'updatedAt': '2020-02-29T04:20:14.030Z'}],\n  'reactions': [{'id': '286f599c-f86a-4932-82f0-f5a06f1eca03', 'count': 6},\n   {'id': 'e8e6bc5d-41b0-4129-b134-97507523d7ff', 'count': 1}],\n  'hidden': False,\n  'customStyle': None,\n  'isSuspiciousAccount': False,\n  'layout': 'classic',\n  'withImages': True,\n  'withVideos': True,\n  'media': [{'url': 'https://i.imgur.com/NZ4qOj0.jpg'},\n   {'url': 'https://i.imgur.com/B7jGgNz.jpg'},\n   {'url': 'https://vivid.dcard.tw/Public/860a276e-b0d9-4cd6-9edb-d07da3a65d1d/thumbnail.jpg'},\n   {'url': 'https://vivid.dcard.tw/Public/55405093-977d-4b51-bc00-f1f1ede0fb51/thumbnail.jpg'}],\n  'reportReasonText': '',\n  'postAvatar': ''},\n {'id': 233158713,\n  'title': '#圖#影小柴→大柴',\n  'excerpt': '心血來潮想分享一下（о´∀`о），首先從小柴開始介紹，高中忙著上班，導致小時候只有這部影片🤦\\u200d️🤦\\u200d️，再來是稍微大一點的，清澈的眼神（（（o（*ﾟ▽ﾟ*）o））），這是剪指甲把咬傷美容師的吐舌照',\n  'anonymousSchool': False,\n  'anonymousDepartment': True,\n  'pinned': False,\n  'forumId': '7ee21581-1307-4ba9-b9dc-82028bdcca49',\n  'replyId': None,\n  'createdAt': '2020-02-28T17:16:37.117Z',\n  'updatedAt': '2020-02-28T17:16:37.117Z',\n  'commentCount': 0,\n  'likeCount': 7,\n  'withNickname': False,\n  'tags': [],\n  'topics': ['狗', '可愛', '柴犬', '圖', '寵物'],\n  'meta': {'layout': 'classic'},\n  'forumName': '寵物',\n  'forumAlias': 'pet',\n  'gender': 'M',\n  'school': '致理科技大學',\n  'replyTitle': None,\n  'mediaMeta': [{'id': '27159c29-b928-430c-b5a4-b14733ba762c',\n    'url': 'https://vivid.dcard.tw/Public/5245c5d3-f263-499e-a2fc-9027ddbfaae9/thumbnail.jpg',\n    'normalizedUrl': 'https://vivid.dcard.tw/Public/5245c5d3-f263-499e-a2fc-9027ddbfaae9/thumbnail.jpg',\n    'thumbnail': 'https://vivid.dcard.tw/Public/5245c5d3-f263-499e-a2fc-9027ddbfaae9/thumbnail.jpg',\n    'type': 'image/thumbnail',\n    'tags': [],\n    'createdAt': '2020-02-28T17:16:37.117Z',\n    'updatedAt': '2020-02-28T17:16:37.117Z'},\n   {'id': '27159c29-b928-430c-b5a4-b14733ba762c',\n    'url': 'https://www.dcard.tw/v2/vivid/videos/5245c5d3-f263-499e-a2fc-9027ddbfaae9?r=1.0',\n    'normalizedUrl': '',\n    'thumbnail': 'https://vivid.dcard.tw/Public/5245c5d3-f263-499e-a2fc-9027ddbfaae9/thumbnail.jpg',\n    'type': 'video/vivid',\n    'tags': [],\n    'createdAt': '2020-02-28T17:16:37.117Z',\n    'updatedAt': '2020-02-28T17:16:37.117Z'},\n   {'id': '7b33abe4-ca8a-48f0-8ce3-5e58f177c4e3',\n    'url': 'https://megapx-assets.dcard.tw/images/08676579-cb08-4188-9155-711f8c89f55d/full.jpeg',\n    'normalizedUrl': 'https://megapx.dcard.tw/v1/images/08676579-cb08-4188-9155-711f8c89f55d',\n    'thumbnail': 'https://megapx-assets.dcard.tw/images/08676579-cb08-4188-9155-711f8c89f55d/640.jpeg',\n    'type': 'image/megapx',\n    'tags': [],\n    'createdAt': '2020-02-28T17:16:37.117Z',\n    'updatedAt': '2020-02-28T17:16:37.117Z',\n    'width': 640,\n    'height': 1136},\n   {'id': 'f0142041-adf3-4c5f-bc3c-0aa7c8aeaec6',\n    'url': 'https://megapx-assets.dcard.tw/images/c678d22c-cd27-4ed7-97b2-a307bc90a086/1280.jpeg',\n    'normalizedUrl': 'https://megapx.dcard.tw/v1/images/c678d22c-cd27-4ed7-97b2-a307bc90a086',\n    'thumbnail': 'https://megapx-assets.dcard.tw/images/c678d22c-cd27-4ed7-97b2-a307bc90a086/640.jpeg',\n    'type': 'image/megapx',\n    'tags': [],\n    'createdAt': '2020-02-28T17:16:37.117Z',\n    'updatedAt': '2020-02-28T17:16:37.117Z',\n    'width': 1500,\n    'height': 2000},\n   {'id': 'cce80b05-9339-4f6b-b893-2f48ad7caf9a',\n    'url': 'https://megapx-assets.dcard.tw/images/11fd9e32-3e80-417b-9505-5bf84783b543/1280.jpeg',\n    'normalizedUrl': 'https://megapx.dcard.tw/v1/images/11fd9e32-3e80-417b-9505-5bf84783b543',\n    'thumbnail': 'https://megapx-assets.dcard.tw/images/11fd9e32-3e80-417b-9505-5bf84783b543/640.jpeg',\n    'type': 'image/megapx',\n    'tags': [],\n    'createdAt': '2020-02-28T17:16:37.117Z',\n    'updatedAt': '2020-02-28T17:16:37.117Z',\n    'width': 1125,\n    'height': 2000},\n   {'id': '51d10681-9e8f-440b-b736-8e04c12af11f',\n    'url': 'https://www.dcard.tw/v2/vivid/videos/cf4d3460-7ab3-4399-b3cb-af98051f737c?r=1.7777777777777777',\n    'normalizedUrl': '',\n    'thumbnail': 'https://vivid.dcard.tw/Public/cf4d3460-7ab3-4399-b3cb-af98051f737c/thumbnail.jpg',\n    'type': 'video/vivid',\n    'tags': [],\n    'createdAt': '2020-02-28T17:16:37.117Z',\n    'updatedAt': '2020-02-28T17:16:37.117Z'},\n   {'id': '4a5b1423-2f2b-47ac-914f-d3f1f080d4c7',\n    'url': 'https://www.dcard.tw/v2/vivid/videos/7c654b5e-f143-462b-a8b9-d8debc97477b?r=1.7777777777777777',\n    'normalizedUrl': '',\n    'thumbnail': 'https://vivid.dcard.tw/Public/7c654b5e-f143-462b-a8b9-d8debc97477b/thumbnail.jpg',\n    'type': 'video/vivid',\n    'tags': [],\n    'createdAt': '2020-02-28T17:16:37.117Z',\n    'updatedAt': '2020-02-28T17:16:37.117Z'},\n   {'id': '8548d05b-a7ea-4cf7-aad5-d988488494f9',\n    'url': 'https://www.dcard.tw/v2/vivid/videos/dcec7089-3841-4f9a-8f83-c802b79c53ad?r=1.7777777777777777',\n    'normalizedUrl': '',\n    'thumbnail': 'https://vivid.dcard.tw/Public/dcec7089-3841-4f9a-8f83-c802b79c53ad/thumbnail.jpg',\n    'type': 'video/vivid',\n    'tags': [],\n    'createdAt': '2020-02-28T17:16:37.117Z',\n    'updatedAt': '2020-02-28T17:16:37.117Z'}],\n  'reactions': [{'id': '286f599c-f86a-4932-82f0-f5a06f1eca03', 'count': 7}],\n  'hidden': False,\n  'customStyle': None,\n  'isSuspiciousAccount': False,\n  'layout': 'classic',\n  'withImages': True,\n  'withVideos': True,\n  'media': [{'url': 'https://vivid.dcard.tw/Public/5245c5d3-f263-499e-a2fc-9027ddbfaae9/thumbnail.jpg'},\n   {'url': 'https://megapx-assets.dcard.tw/images/08676579-cb08-4188-9155-711f8c89f55d/full.jpeg'},\n   {'url': 'https://megapx-assets.dcard.tw/images/c678d22c-cd27-4ed7-97b2-a307bc90a086/1280.jpeg'},\n   {'url': 'https://megapx-assets.dcard.tw/images/11fd9e32-3e80-417b-9505-5bf84783b543/1280.jpeg'},\n   {'url': 'https://vivid.dcard.tw/Public/cf4d3460-7ab3-4399-b3cb-af98051f737c/thumbnail.jpg'},\n   {'url': 'https://vivid.dcard.tw/Public/7c654b5e-f143-462b-a8b9-d8debc97477b/thumbnail.jpg'},\n   {'url': 'https://vivid.dcard.tw/Public/dcec7089-3841-4f9a-8f83-c802b79c53ad/thumbnail.jpg'}],\n  'reportReasonText': '',\n  'postAvatar': ''},\n {'id': 233156824,\n  'title': '我家有一隻謎貓',\n  'excerpt': '平常會靠著沙發扶手看電視，還看到睡著，是老人嗎，沙發被佔走就乾脆躺人家身上，打架打到一半滑倒就乾脆躺著不動，是工讀生吧，很懶的工讀生，BTW 還很會吃媽媽豆腐，補一張 剛剛坐在我背後發呆',\n  'anonymousSchool': False,\n  'anonymousDepartment': False,\n  'pinned': False,\n  'forumId': '7ee21581-1307-4ba9-b9dc-82028bdcca49',\n  'replyId': None,\n  'createdAt': '2020-02-28T12:28:01.691Z',\n  'updatedAt': '2020-02-28T15:53:28.146Z',\n  'commentCount': 8,\n  'likeCount': 7,\n  'withNickname': True,\n  'tags': [],\n  'topics': ['工讀生', '米克斯', '貓', '虎斑貓'],\n  'meta': {'layout': 'classic'},\n  'forumName': '寵物',\n  'forumAlias': 'pet',\n  'gender': 'F',\n  'school': '匿名',\n  'department': 'yuzmei',\n  'replyTitle': None,\n  'mediaMeta': [{'id': 'caf886c6-297b-435a-a41d-56ae4c30c969',\n    'url': 'https://i.imgur.com/2RpHJPKl.jpg',\n    'normalizedUrl': 'https://i.imgur.com/2RpHJPKl.jpg',\n    'thumbnail': 'https://i.imgur.com/2RpHJPKl.jpg',\n    'type': 'image/thumbnail',\n    'tags': ['ANNOTATED'],\n    'createdAt': '2020-02-28T12:28:01.691Z',\n    'updatedAt': '2020-02-28T15:53:28.146Z'},\n   {'id': 'caf886c6-297b-435a-a41d-56ae4c30c969',\n    'url': 'https://i.imgur.com/2RpHJPK.jpg',\n    'normalizedUrl': 'https://imgur.com/2RpHJPK',\n    'thumbnail': 'https://i.imgur.com/2RpHJPKl.jpg',\n    'type': 'image/imgur',\n    'tags': ['ANNOTATED'],\n    'createdAt': '2020-02-28T12:28:01.691Z',\n    'updatedAt': '2020-02-28T15:53:28.146Z'},\n   {'id': 'ca01cb81-f11c-4432-9316-7dc2df813eef',\n    'url': 'https://i.imgur.com/HDUqUEK.jpg',\n    'normalizedUrl': 'https://imgur.com/HDUqUEK',\n    'thumbnail': 'https://i.imgur.com/HDUqUEKl.jpg',\n    'type': 'image/imgur',\n    'tags': ['ANNOTATED'],\n    'createdAt': '2020-02-28T12:28:01.691Z',\n    'updatedAt': '2020-02-28T15:53:28.146Z'},\n   {'id': 'd75453cb-9b1e-4080-ae6d-0307fb71d708',\n    'url': 'https://i.imgur.com/BnAt3ly.jpg',\n    'normalizedUrl': 'https://imgur.com/BnAt3ly',\n    'thumbnail': 'https://i.imgur.com/BnAt3lyl.jpg',\n    'type': 'image/imgur',\n    'tags': ['ANNOTATED'],\n    'createdAt': '2020-02-28T12:35:18.838Z',\n    'updatedAt': '2020-02-28T15:53:28.146Z'},\n   {'id': 'dec521d7-e696-4bdf-870d-0b733e02ffd2',\n    'url': 'https://i.imgur.com/0pFDMcU.jpg',\n    'normalizedUrl': 'https://imgur.com/0pFDMcU',\n    'thumbnail': 'https://i.imgur.com/0pFDMcUl.jpg',\n    'type': 'image/imgur',\n    'tags': ['ANNOTATED'],\n    'createdAt': '2020-02-28T12:35:18.838Z',\n    'updatedAt': '2020-02-28T15:53:28.146Z'},\n   {'id': '6b56c2c5-79f4-4331-9775-715201987ef0',\n    'url': 'https://i.imgur.com/OspwjxV.jpg',\n    'normalizedUrl': 'https://imgur.com/OspwjxV',\n    'thumbnail': 'https://i.imgur.com/OspwjxVl.jpg',\n    'type': 'image/imgur',\n    'tags': ['ANNOTATED'],\n    'createdAt': '2020-02-28T12:35:18.838Z',\n    'updatedAt': '2020-02-28T15:53:28.146Z'},\n   {'id': 'a445b234-915f-4a22-816f-b47c1ae3c9e1',\n    'url': 'https://i.imgur.com/Rp7wWHW.jpg',\n    'normalizedUrl': 'https://imgur.com/Rp7wWHW',\n    'thumbnail': 'https://i.imgur.com/Rp7wWHWl.jpg',\n    'type': 'image/imgur',\n    'tags': ['ANNOTATED'],\n    'createdAt': '2020-02-28T12:35:18.838Z',\n    'updatedAt': '2020-02-28T15:53:28.146Z'},\n   {'id': '0742cca4-131f-4c4a-9438-373ab882ebc7',\n    'url': 'https://megapx-assets.dcard.tw/images/3acb8c63-489e-459c-88e0-356faf0f4c1b/1280.jpeg',\n    'normalizedUrl': 'https://megapx.dcard.tw/v1/images/3acb8c63-489e-459c-88e0-356faf0f4c1b',\n    'thumbnail': 'https://megapx-assets.dcard.tw/images/3acb8c63-489e-459c-88e0-356faf0f4c1b/640.jpeg',\n    'type': 'image/megapx',\n    'tags': [],\n    'createdAt': '2020-02-28T15:53:28.146Z',\n    'updatedAt': '2020-02-28T15:53:28.146Z',\n    'width': 1500,\n    'height': 2000}],\n  'reactions': [{'id': '286f599c-f86a-4932-82f0-f5a06f1eca03', 'count': 7}],\n  'hidden': False,\n  'customStyle': None,\n  'isSuspiciousAccount': False,\n  'layout': 'classic',\n  'withImages': True,\n  'withVideos': False,\n  'media': [{'url': 'https://i.imgur.com/2RpHJPK.jpg'},\n   {'url': 'https://i.imgur.com/HDUqUEK.jpg'},\n   {'url': 'https://i.imgur.com/BnAt3ly.jpg'},\n   {'url': 'https://i.imgur.com/0pFDMcU.jpg'},\n   {'url': 'https://i.imgur.com/OspwjxV.jpg'},\n   {'url': 'https://i.imgur.com/Rp7wWHW.jpg'},\n   {'url': 'https://megapx-assets.dcard.tw/images/3acb8c63-489e-459c-88e0-356faf0f4c1b/1280.jpeg'}],\n  'reportReasonText': '',\n  'postAvatar': ''},\n {'id': 233156732,\n  'title': '#問 灰貓名字',\n  'excerpt': '最近在網上很常看到網友曬這種貓，想請問有人知道這個品種的貓咪叫什麼名字嗎？覺得很漂亮想養～～但怎麼查都還是查不到這隻貓的名字',\n  'anonymousSchool': False,\n  'anonymousDepartment': True,\n  'pinned': False,\n  'forumId': '7ee21581-1307-4ba9-b9dc-82028bdcca49',\n  'replyId': None,\n  'createdAt': '2020-02-28T12:09:18.801Z',\n  'updatedAt': '2020-02-28T12:09:18.801Z',\n  'commentCount': 4,\n  'likeCount': 7,\n  'withNickname': False,\n  'tags': [],\n  'topics': ['灰貓', '貓'],\n  'meta': {'layout': 'classic'},\n  'forumName': '寵物',\n  'forumAlias': 'pet',\n  'gender': 'F',\n  'school': '樹德科技大學',\n  'replyTitle': None,\n  'mediaMeta': [{'id': '16601c81-1205-42c4-ba3f-f1a19d9320d7',\n    'url': 'https://megapx-assets.dcard.tw/images/9aa5ef7a-47f1-49e1-ac37-ca8eaeee69c4/320.jpeg',\n    'normalizedUrl': 'https://megapx-assets.dcard.tw/images/9aa5ef7a-47f1-49e1-ac37-ca8eaeee69c4/320.jpeg',\n    'thumbnail': 'https://megapx-assets.dcard.tw/images/9aa5ef7a-47f1-49e1-ac37-ca8eaeee69c4/320.jpeg',\n    'type': 'image/thumbnail',\n    'tags': ['ANNOTATED'],\n    'createdAt': '2020-02-28T12:09:18.801Z',\n    'updatedAt': '2020-02-28T12:09:18.801Z',\n    'width': 203,\n    'height': 320},\n   {'id': '16601c81-1205-42c4-ba3f-f1a19d9320d7',\n    'url': 'https://megapx-assets.dcard.tw/images/9aa5ef7a-47f1-49e1-ac37-ca8eaeee69c4/full.jpeg',\n    'normalizedUrl': 'https://megapx.dcard.tw/v1/images/9aa5ef7a-47f1-49e1-ac37-ca8eaeee69c4',\n    'thumbnail': 'https://megapx-assets.dcard.tw/images/9aa5ef7a-47f1-49e1-ac37-ca8eaeee69c4/320.jpeg',\n    'type': 'image/megapx',\n    'tags': ['ANNOTATED'],\n    'createdAt': '2020-02-28T12:09:18.801Z',\n    'updatedAt': '2020-02-28T12:09:18.801Z',\n    'width': 364,\n    'height': 574}],\n  'reactions': [{'id': '286f599c-f86a-4932-82f0-f5a06f1eca03', 'count': 7}],\n  'hidden': False,\n  'customStyle': None,\n  'isSuspiciousAccount': False,\n  'layout': 'classic',\n  'withImages': True,\n  'withVideos': False,\n  'media': [{'url': 'https://megapx-assets.dcard.tw/images/9aa5ef7a-47f1-49e1-ac37-ca8eaeee69c4/full.jpeg'}],\n  'reportReasonText': '',\n  'postAvatar': ''},\n {'id': 233161631,\n  'title': '長榮同學！交出你的鼠鼠！',\n  'excerpt': '你的老鼠太可愛了，跟那頂帽子也太搭！，請你立刻交出更多照片！！',\n  'anonymousSchool': False,\n  'anonymousDepartment': True,\n  'pinned': False,\n  'forumId': '7ee21581-1307-4ba9-b9dc-82028bdcca49',\n  'replyId': None,\n  'createdAt': '2020-02-29T08:25:18.400Z',\n  'updatedAt': '2020-02-29T08:25:18.400Z',\n  'commentCount': 4,\n  'likeCount': 6,\n  'withNickname': False,\n  'tags': [],\n  'topics': ['寵物', '可愛', '鼠'],\n  'meta': {'layout': 'classic'},\n  'forumName': '寵物',\n  'forumAlias': 'pet',\n  'gender': 'F',\n  'school': '銘傳大學',\n  'replyTitle': None,\n  'mediaMeta': [{'id': '69bfb5c2-7faa-494d-b394-c2ba4a5b53a4',\n    'url': 'https://megapx-assets.dcard.tw/images/162aed9e-c3e2-49a3-9836-51361cb52a8c/640.jpeg',\n    'normalizedUrl': 'https://megapx-assets.dcard.tw/images/162aed9e-c3e2-49a3-9836-51361cb52a8c/640.jpeg',\n    'thumbnail': 'https://megapx-assets.dcard.tw/images/162aed9e-c3e2-49a3-9836-51361cb52a8c/640.jpeg',\n    'type': 'image/thumbnail',\n    'tags': ['ANNOTATED'],\n    'createdAt': '2020-02-29T08:25:18.400Z',\n    'updatedAt': '2020-02-29T08:25:18.400Z',\n    'width': 296,\n    'height': 640},\n   {'id': '69bfb5c2-7faa-494d-b394-c2ba4a5b53a4',\n    'url': 'https://megapx-assets.dcard.tw/images/162aed9e-c3e2-49a3-9836-51361cb52a8c/1280.jpeg',\n    'normalizedUrl': 'https://megapx.dcard.tw/v1/images/162aed9e-c3e2-49a3-9836-51361cb52a8c',\n    'thumbnail': 'https://megapx-assets.dcard.tw/images/162aed9e-c3e2-49a3-9836-51361cb52a8c/640.jpeg',\n    'type': 'image/megapx',\n    'tags': ['ANNOTATED'],\n    'createdAt': '2020-02-29T08:25:18.400Z',\n    'updatedAt': '2020-02-29T08:25:18.400Z',\n    'width': 750,\n    'height': 1624}],\n  'reactions': [{'id': '286f599c-f86a-4932-82f0-f5a06f1eca03', 'count': 6}],\n  'hidden': False,\n  'customStyle': None,\n  'isSuspiciousAccount': False,\n  'layout': 'classic',\n  'withImages': True,\n  'withVideos': False,\n  'media': [{'url': 'https://megapx-assets.dcard.tw/images/162aed9e-c3e2-49a3-9836-51361cb52a8c/1280.jpeg'}],\n  'reportReasonText': '',\n  'postAvatar': ''}]"
     },
     "execution_count": 9,
     "metadata": {},
     "output_type": "execute_result"
    }
   ],
   "source": [
    "import requests\n",
    "import json \n",
    "r=requests.get(\"https://www.dcard.tw/_api/forums/pet/posts?popular=true\")\n",
    "json.loads(r.text)"
   ]
  },
  {
   "cell_type": "code",
   "execution_count": 26,
   "metadata": {},
   "outputs": [
    {
     "name": "stdout",
     "output_type": "stream",
     "text": "dict_keys(['id', 'title', 'excerpt', 'anonymousSchool', 'anonymousDepartment', 'pinned', 'forumId', 'replyId', 'createdAt', 'updatedAt', 'commentCount', 'likeCount', 'withNickname', 'tags', 'topics', 'meta', 'forumName', 'forumAlias', 'gender', 'school', 'replyTitle', 'mediaMeta', 'reactions', 'hidden', 'customStyle', 'isSuspiciousAccount', 'layout', 'withImages', 'withVideos', 'media', 'reportReasonText', 'postAvatar'])\n"
    }
   ],
   "source": [
    "# 1. 這個 API 一次會回傳幾筆資料？每一筆資料包含哪些欄位？\n",
    "data=json.loads(r.text)\n",
    "print(data[0].keys())"
   ]
  },
  {
   "cell_type": "code",
   "execution_count": 27,
   "metadata": {},
   "outputs": [
    {
     "name": "stdout",
     "output_type": "stream",
     "text": "文長 我擁有全世界最棒的貓咪 \t時間:  2020-02-27T23:47:16.852Z \t留言人數:  13 \t按讚人數:  499\n曬照🐿️ \t時間:  2020-02-28T03:46:37.460Z \t留言人數:  13 \t按讚人數:  271\n求這篇限時的貓咪 \t時間:  2020-02-28T06:23:06.364Z \t留言人數:  3 \t按讚人數:  253\n三腳黑妞；救援孕狗不是件容易的事 \t時間:  2020-02-28T04:16:05.721Z \t留言人數:  7 \t按讚人數:  214\n所以說到底是什麼生物呢 \t時間:  2020-02-28T06:28:07.294Z \t留言人數:  3 \t按讚人數:  169\n柯基犬曬萌照 \t時間:  2020-02-28T04:37:56.515Z \t留言人數:  0 \t按讚人數:  40\n我只是想打個哈欠🥱 \t時間:  2020-02-28T16:44:58.714Z \t留言人數:  4 \t按讚人數:  26\n家有兩隻貓(⌯͒⁍̩̩᷄ ɪ ⁍̩̩᷄ฅ͒) \t時間:  2020-02-28T16:04:47.921Z \t留言人數:  2 \t按讚人數:  25\n同學我要妮的貓貓！！！ \t時間:  2020-02-28T07:26:54.480Z \t留言人數:  3 \t按讚人數:  25\n純粹想曬曬我家柯基🐶 \t時間:  2020-02-29T03:59:09.926Z \t留言人數:  2 \t按讚人數:  23\n#圖 酒醉大鼠 \t時間:  2020-02-28T08:49:27.019Z \t留言人數:  2 \t按讚人數:  20\n懇請大家協尋狗小孩 \t時間:  2020-02-28T08:09:39.155Z \t留言人數:  1 \t按讚人數:  19\n最chill的邊境 \t時間:  2020-02-29T01:18:56.165Z \t留言人數:  4 \t按讚人數:  18\n看那顫抖的小眼眶 \t時間:  2020-02-27T22:52:19.976Z \t留言人數:  4 \t按讚人數:  18\n是多麼喜歡 \t時間:  2020-02-29T05:52:42.475Z \t留言人數:  1 \t按讚人數:  16\n問 狗狗品種 \t時間:  2020-02-29T03:03:15.315Z \t留言人數:  4 \t按讚人數:  14\n這位同學！請交出你的貓！ \t時間:  2020-02-28T18:50:36.643Z \t留言人數:  3 \t按讚人數:  13\n戲精貓-瞳孔放大片篇 \t時間:  2020-02-28T05:13:43.720Z \t留言人數:  0 \t按讚人數:  13\n蛇板？（有關掉預覽 \t時間:  2020-02-28T17:20:29.630Z \t留言人數:  2 \t按讚人數:  11\n#問 野生鼠會跟寵物鼠有共鳴嗎？ \t時間:  2020-02-28T15:39:29.606Z \t留言人數:  3 \t按讚人數:  10\n雖然不是第一次，但還是很緊張的假新手 \t時間:  2020-02-28T15:27:26.396Z \t留言人數:  2 \t按讚人數:  9\n感覺是走失的狗狗🐕（？） \t時間:  2020-02-28T10:27:25.209Z \t留言人數:  3 \t按讚人數:  9\n賓士貓送養 已結紮&預防針 \t時間:  2020-02-29T03:06:56.553Z \t留言人數:  3 \t按讚人數:  8\n#找主人  朝陽科大7-11附近走失貓 \t時間:  2020-02-28T12:43:11.635Z \t留言人數:  0 \t按讚人數:  8\n尋狗 新莊夜市走丟的 \t時間:  2020-02-28T02:57:24.261Z \t留言人數:  0 \t按讚人數:  8\n臘腸PK貓咪 壓在地上打！ \t時間:  2020-02-29T04:20:14.030Z \t留言人數:  0 \t按讚人數:  7\n#圖#影小柴→大柴 \t時間:  2020-02-28T17:16:37.117Z \t留言人數:  0 \t按讚人數:  7\n我家有一隻謎貓 \t時間:  2020-02-28T12:28:01.691Z \t留言人數:  8 \t按讚人數:  7\n#問 灰貓名字 \t時間:  2020-02-28T12:09:18.801Z \t留言人數:  4 \t按讚人數:  7\n長榮同學！交出你的鼠鼠！ \t時間:  2020-02-29T08:25:18.400Z \t留言人數:  4 \t按讚人數:  6\n"
    }
   ],
   "source": [
    "# 2. 取出每一筆資料的「標題」、「貼文時間」、「留言人數」、「按讚人數」\n",
    "for item in data:\n",
    "    print(item['title'],\"\\t時間: \",item['createdAt'],\"\\t留言人數: \",item['commentCount'],'\\t按讚人數: ',item['likeCount'])\n"
   ]
  },
  {
   "cell_type": "code",
   "execution_count": 28,
   "metadata": {},
   "outputs": [
    {
     "name": "stdout",
     "output_type": "stream",
     "text": "非熱門文章 平均留言人數: 2.3666666666666667\n非熱門文章 平均按讚人數: 7.4\n熱門文章 平均留言人數: 3.2666666666666666\n熱門文章 平均按讚人數: 59.1\n"
    }
   ],
   "source": [
    "# 3. 計算熱門/非熱門文章的「平均留言人數」與「平均按讚人數」\n",
    "nr=requests.get(\"https://www.dcard.tw/_api/forums/pet/posts?popular=false\")\n",
    "ndata=json.loads(nr.text)\n",
    "ncount=0\n",
    "count=0\n",
    "nlike=0\n",
    "like=0\n",
    "# for item in ndata:\n",
    "#     print(item['title'],\"\\t時間: \",item['createdAt'],\"\\t留言人數: \",item['commentCount'],'\\t按讚人數: ',item['likeCount'])\n",
    "# print(len(ndata))\n",
    "\n",
    "for item in ndata:\n",
    "    ncount=ncount+item[\"commentCount\"]\n",
    "    nlike=nlike+item[\"likeCount\"]\n",
    "    # print(ncount)\n",
    "for item in data:\n",
    "    count=count+item[\"commentCount\"]\n",
    "    like=like+item[\"likeCount\"]\n",
    "print(\"非熱門文章 平均留言人數:\",ncount/len(ndata))\n",
    "print(\"非熱門文章 平均按讚人數:\",nlike/len(ndata))\n",
    "print(\"熱門文章 平均留言人數:\",count/len(data))\n",
    "print(\"熱門文章 平均按讚人數:\",like/len(data))"
   ]
  },
  {
   "cell_type": "code",
   "execution_count": null,
   "metadata": {},
   "outputs": [],
   "source": []
  },
  {
   "cell_type": "code",
   "execution_count": null,
   "metadata": {},
   "outputs": [],
   "source": []
  }
 ],
 "metadata": {
  "kernelspec": {
   "display_name": "Python 3",
   "language": "python",
   "name": "python3"
  },
  "language_info": {
   "codemirror_mode": {
    "name": "ipython",
    "version": 3
   },
   "file_extension": ".py",
   "mimetype": "text/x-python",
   "name": "python",
   "nbconvert_exporter": "python",
   "pygments_lexer": "ipython3",
   "version": "3.7.4-final"
  }
 },
 "nbformat": 4,
 "nbformat_minor": 2
}