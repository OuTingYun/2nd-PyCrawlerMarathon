{
 "cells": [
  {
   "cell_type": "markdown",
   "metadata": {},
   "source": [
    "# Wikipedia爬蟲練習\n",
    "## 範例：練習是從Wikipedia中爬取文章。先定義一個搜尋的關鍵字，擷取該關鍵字詞的文章。"
   ]
  },
  {
   "cell_type": "code",
   "execution_count": 34,
   "metadata": {},
   "outputs": [],
   "source": [
    "\n",
    "import re   #import 正則表示=re \n",
    "from bs4 import BeautifulSoup\n",
    "import requests\n",
    "import os"
   ]
  },
  {
   "cell_type": "markdown",
   "metadata": {},
   "source": [
    "### 先定義一個我們想搜尋的字詞，並將它轉換成UTF-8編碼後的URL"
   ]
  },
  {
   "cell_type": "code",
   "execution_count": 8,
   "metadata": {},
   "outputs": [
    {
     "output_type": "stream",
     "name": "stdout",
     "text": "編譯器: %E7%B7%A8%E8%AD%AF%E5%99%A8\n/wiki/%E7%B7%A8%E8%AD%AF%E5%99%A8\n"
    }
   ],
   "source": [
    "keyword=\"編譯器\"\n",
    "utf8_url=repr(keyword.encode('UTF-8')).upper() \n",
    "utf8_url = utf8_url.replace(\"\\\\X\", \"%\") \n",
    "print(\"%s: %s\" % (keyword, utf8_url[2:-1:1]))\n",
    "root_keyword_link = '/wiki/' + utf8_url[2:-1:1]\n",
    "print(root_keyword_link)"
   ]
  },
  {
   "cell_type": "markdown",
   "metadata": {},
   "source": [
    "### 範例1：送出關鍵字請求後，爬取該關鍵字的文章內容"
   ]
  },
  {
   "cell_type": "code",
   "execution_count": 10,
   "metadata": {},
   "outputs": [
    {
     "output_type": "stream",
     "name": "stdout",
     "text": "編譯器（compiler）是一種電腦程式，它會將某種程式語言寫成的原始碼（原始語言）轉換成另一種程式語言（目標語言）。\n\n它主要的目的是將便于人编写、阅读、维护的高级计算机语言所寫作的原始碼程式，翻译为计算机能解读、运行的低阶机器语言的程序，也就是執行檔。编译器将原始程序（source program）作为输入，翻译产生使用目标语言（target language）的等价程序。源代码一般为高阶语言（High-level language），如Pascal、C、C++、C# 、Java等，而目标语言则是汇编语言或目标机器的目标代码（Object code），有时也称作机器代码（Machine code）。\n\n一个现代编译器的主要工作流程如下：\n\n源代码（source code）→ 预处理器（preprocessor）→ 编译器（compiler）→ 汇编程序（assembler）→ 目标代码（object code）→ 链接器（linker）→ 執行檔（executables），最後打包好的檔案就可以給電腦去判讀執行了。\n\n早期的计算机软件都是用汇编语言直接编写的，这种状况持续了数年。当人们发现为不同类型的中央处理器（CPU）编写可重用软件的开销要明显高于编写编译器时，人们发明了高级编程语言。由于早期的计算机的内存很少，当大家实现编译器时，遇到了许多技术难题。\n\n大约在20世纪50年代末期，与机器无关的编程语言被首次提出。随后，人们开发了几种实验性质的编译器。第一个编译器是由美國女性電腦科學家葛麗絲·霍普（Grace Murray Hopper）于1952年为A-0 系統编写的。但是1957年由任職於IBM的美國電腦科學家约翰·巴科斯（John Warner Backus）领导的FORTRAN則是第一個被實作出具備完整功能的编译器。1960年，COBOL成为一种较早的能在多种架构下被编译的语言。\n\n高级语言在许多领域流行起来。由于新的编程语言支持的功能越来越多，计算机的架构越来越复杂，这使得编译器也越来越复杂。\n\n早期的编译器是用汇编语言编写的。首个能编译自己源程序的编译器是在1962年由麻省理工学院的Hart和Levin制作的。从20世纪70年代起，实现能编译自己源程序的编译器变得越来越可行，不过还是用Pascal和C语言来实现编译器更加流行。制作某种语言的第一个能编译器，要么需要用其它语言来编写，要么就像Hart和Levin制作Lisp编译器那样，用解释器来运行编译器。\n\n编译器的构造与优化是计算机专业的大学课程，[1]课程名称一般为「编译原理」或「編譯器」。通常在课程中包含了如何实现一种教学用程序语言的编译器。一个著名的例子是20世纪70年代，瑞士計算機科學家尼克劳斯·维尔特（Niklaus Emil Wirth）用于讲解编译器的构造时使用的PL/0（英语：PL/0）编译器。尽管它很简单，PL/0编译器介绍了这个领域的几个有影响的概念：\n\n编译器的一种分类方式是按照生成代码所运行的系统平台划分，这个平台称为目标平台。\n\n有一些编译器输出的代码，将运行于与编译器所在相同类型的计算机和操作系统之上，这种编译器叫做本地编译器。输出可以运行于不同的平台之上的编译器，叫做交叉编译器。由于嵌入式系统通常没有软件开发环境，因此，为这类系统开发软件时，通常需要使用交叉编译器。\n\n编译器所输出于虚拟机上运行之代码，编译器和编译器输出的运行平台有可能相同，也有可能不同。因此，对于这类编译器，不去区分它是本地编译器还是交叉编译器。\n\n"
    }
   ],
   "source": [
    "url = 'https://zh.wikipedia.org' + root_keyword_link\n",
    "resp = requests.get(url)\n",
    "resp.encoding = 'utf-8'\n",
    "\n",
    "html = BeautifulSoup(resp.text, \"lxml\")\n",
    "content = html.find(name='div', attrs={'id':'mw-content-text'}).find_all(name='p')\n",
    "for paragraph in content:\n",
    "    print(paragraph.get_text())"
   ]
  },
  {
   "cell_type": "markdown",
   "metadata": {},
   "source": [
    "### 範例2：從爬取的文章內容中，擷取出有外部連結的關鍵字。這些關鍵字在文章中是以藍色字體顯示，會連到外部的網頁，並解釋其內容。"
   ]
  },
  {
   "cell_type": "code",
   "execution_count": 14,
   "metadata": {},
   "outputs": [
    {
     "output_type": "stream",
     "name": "stdout",
     "text": "外部連結: [電腦程式] /wiki/%E9%9B%BB%E8%85%A6%E7%A8%8B%E5%BC%8F\n外部連結: [原始碼] /wiki/%E5%8E%9F%E5%A7%8B%E7%A2%BC\n外部連結: [原始碼] /wiki/%E5%8E%9F%E5%A7%8B%E7%A2%BC\n外部連結: [執行檔] /wiki/%E5%9F%B7%E8%A1%8C%E6%AA%94\n外部連結: [源代码] /wiki/%E6%BA%90%E4%BB%A3%E7%A0%81\n外部連結: [机器代码] /wiki/%E6%9C%BA%E5%99%A8%E4%BB%A3%E7%A0%81\n外部連結: [源代码] /wiki/%E6%BA%90%E4%BB%A3%E7%A0%81\n外部連結: [预处理器] /wiki/%E9%A2%84%E5%A4%84%E7%90%86%E5%99%A8\n外部連結: [编译器] /wiki/%E7%BC%96%E8%AF%91%E5%99%A8\n外部連結: [汇编程序] /wiki/%E6%B1%87%E7%BC%96%E7%A8%8B%E5%BA%8F\n外部連結: [目标代码] /wiki/%E7%9B%AE%E6%A0%87%E4%BB%A3%E7%A0%81\n外部連結: [链接器] /wiki/%E9%93%BE%E6%8E%A5%E5%99%A8\n外部連結: [執行檔] /wiki/%E5%9F%B7%E8%A1%8C%E6%AA%94\n外部連結: [汇编语言] /wiki/%E6%B1%87%E7%BC%96%E8%AF%AD%E8%A8%80\n外部連結: [中央处理器] /wiki/%E4%B8%AD%E5%A4%AE%E5%A4%84%E7%90%86%E5%99%A8\n外部連結: [内存] /wiki/%E5%86%85%E5%AD%98\n外部連結: [葛麗絲·霍普] /wiki/%E8%91%9B%E9%BA%97%E7%B5%B2%C2%B7%E9%9C%8D%E6%99%AE\n外部連結: [A-0 系統] /wiki/A-0_%E7%B3%BB%E7%B5%B1\n外部連結: [IBM] /wiki/IBM\n外部連結: [约翰·巴科斯] /wiki/%E7%B4%84%E7%BF%B0%C2%B7%E5%B7%B4%E7%A7%91%E6%96%AF\n外部連結: [FORTRAN] /wiki/FORTRAN\n外部連結: [COBOL] /wiki/COBOL\n外部連結: [麻省理工学院] /wiki/%E9%BA%BB%E7%9C%81%E7%90%86%E5%B7%A5%E5%AD%A6%E9%99%A2\n外部連結: [Pascal] /wiki/Pascal_(%E7%A8%8B%E5%BC%8F%E8%AA%9E%E8%A8%80)\n外部連結: [C语言] /wiki/C%E8%AF%AD%E8%A8%80\n外部連結: [Lisp] /wiki/Lisp\n外部連結: [解释器] /wiki/%E8%A7%A3%E9%87%8A%E5%99%A8\n外部連結: [计算机] /wiki/%E8%AE%A1%E7%AE%97%E6%9C%BA%E7%A7%91%E5%AD%A6\n外部連結: [尼克劳斯·维尔特] /wiki/%E5%B0%BC%E5%85%8B%E5%8A%B3%E6%96%AF%C2%B7%E7%BB%B4%E5%B0%94%E7%89%B9\n外部連結: [系统平台] /wiki/%E7%B3%BB%E7%BB%9F%E5%B9%B3%E5%8F%B0\n外部連結: [交叉编译器] /wiki/%E4%BA%A4%E5%8F%89%E7%B7%A8%E8%AD%AF%E5%99%A8\n外部連結: [嵌入式系统] /wiki/%E5%B5%8C%E5%85%A5%E5%BC%8F%E7%B3%BB%E7%BB%9F\n外部連結: [虚拟机] /wiki/%E8%99%9A%E6%8B%9F%E6%9C%BA\n"
    }
   ],
   "source": [
    "for link in content:\n",
    "    a_tag=link.find_all('a',href=re.compile(\"^(/wiki/)((?!;)\\S)*$\"))\n",
    "    if len(link)>0:\n",
    "        for link_string in a_tag:\n",
    "            a_link=link_string['href']\n",
    "            a_keyword=link_string.get_text()\n",
    "            print(\"外部連結: [%s] %s\" % (a_keyword, a_link))"
   ]
  },
  {
   "cell_type": "markdown",
   "metadata": {},
   "source": [
    "## 作業：接下來定義一個爬蟲函數，這個函數的主要工作為：\n",
    "### (1) 爬取當前關鍵字的解釋，並存入檔案(因為文章內容太多會佔滿整個頁面，所以存程檔案，方便後續檢視)\n",
    "### (2) 萃取出當前關鍵字所引用的外部連結，當作新的查詢關鍵字\n",
    "### (3) 把第(2)擷取到的關鍵字當作新的關鍵字，回到第(1)步，爬取新的關鍵字解釋。"
   ]
  },
  {
   "cell_type": "code",
   "execution_count": 80,
   "metadata": {},
   "outputs": [],
   "source": [
    "def WikiArticle(key_word_link, key_word, recursive):\n",
    "    if(recursive <= max_recursive_depth):\n",
    "         print(\"遞迴層[%d] - %s (%s)\" % (recursive, key_word_link, key_word))\n",
    "         url='https://zh.wikipedia.org' + key_word_link\n",
    "         resp=requests.get(url,headers=headers)\n",
    "         resp.encoding='utf-8'\n",
    "         html=BeautifulSoup(resp.text,\"lxml\")\n",
    "         content=html.find(name='div',attrs={'id':'mw-content-text'})\n",
    "\n",
    "         file_name = key_word.replace('/',\"-\")\n",
    "         with open(f'./WikiArticle/{file_name}.html','w+',encoding='utf-8') as f:\n",
    "            f.write(resp.text)\n",
    "         \n",
    "         external_link_dict = dict({})\n",
    "         for link in content:\n",
    "            a_list = link.find_all('a',href=re.compile('^(/wiki/)(\\S)*$'))\n",
    "            for a in a_list:\n",
    "                external_link_dict[a.get_text()] = a['href']\n",
    "                print(\"外部連結: [%s] %s\" % (a_keyword, a_link))\n",
    "         if (len(external_link_dict) > 0):\n",
    "            \n",
    "            recursive = recursive + 1  # 遞迴深度加1\n",
    "            \n",
    "            for k, v in external_link_dict.items():\n",
    "                WikiArticle(key_word= k,key_word_link= v, recursive=recursive)"
   ]
  },
  {
   "cell_type": "markdown",
   "metadata": {},
   "source": [
    "### 執行前個步驟定義好的爬蟲主程式"
   ]
  },
  {
   "cell_type": "code",
   "execution_count": 81,
   "metadata": {
    "tags": [
     "outputPrepend"
    ]
   },
   "outputs": [
    {
     "output_type": "stream",
     "name": "stdout",
     "text": "/%E8%99%9A%E6%8B%9F%E6%9C%BA\n外部連結: [虚拟机] /wiki/%E8%99%9A%E6%8B%9F%E6%9C%BA\n外部連結: [虚拟机] /wiki/%E8%99%9A%E6%8B%9F%E6%9C%BA\n外部連結: [虚拟机] /wiki/%E8%99%9A%E6%8B%9F%E6%9C%BA\n外部連結: [虚拟机] /wiki/%E8%99%9A%E6%8B%9F%E6%9C%BA\n外部連結: [虚拟机] /wiki/%E8%99%9A%E6%8B%9F%E6%9C%BA\n外部連結: [虚拟机] /wiki/%E8%99%9A%E6%8B%9F%E6%9C%BA\n外部連結: [虚拟机] /wiki/%E8%99%9A%E6%8B%9F%E6%9C%BA\n外部連結: [虚拟机] /wiki/%E8%99%9A%E6%8B%9F%E6%9C%BA\n外部連結: [虚拟机] /wiki/%E8%99%9A%E6%8B%9F%E6%9C%BA\n外部連結: [虚拟机] /wiki/%E8%99%9A%E6%8B%9F%E6%9C%BA\n外部連結: [虚拟机] /wiki/%E8%99%9A%E6%8B%9F%E6%9C%BA\n外部連結: [虚拟机] /wiki/%E8%99%9A%E6%8B%9F%E6%9C%BA\n外部連結: [虚拟机] /wiki/%E8%99%9A%E6%8B%9F%E6%9C%BA\n外部連結: [虚拟机] /wiki/%E8%99%9A%E6%8B%9F%E6%9C%BA\n外部連結: [虚拟机] /wiki/%E8%99%9A%E6%8B%9F%E6%9C%BA\n外部連結: [虚拟机] /wiki/%E8%99%9A%E6%8B%9F%E6%9C%BA\n外部連結: [虚拟机] /wiki/%E8%99%9A%E6%8B%9F%E6%9C%BA\n外部連結: [虚拟机] /wiki/%E8%99%9A%E6%8B%9F%E6%9C%BA\n外部連結: [虚拟机] /wiki/%E8%99%9A%E6%8B%9F%E6%9C%BA\n外部連結: [虚拟机] /wiki/%E8%99%9A%E6%8B%9F%E6%9C%BA\n外部連結: [虚拟机] /wiki/%E8%99%9A%E6%8B%9F%E6%9C%BA\n外部連結: [虚拟机] /wiki/%E8%99%9A%E6%8B%9F%E6%9C%BA\n外部連結: [虚拟机] /wiki/%E8%99%9A%E6%8B%9F%E6%9C%BA\n外部連結: [虚拟机] /wiki/%E8%99%9A%E6%8B%9F%E6%9C%BA\n外部連結: [虚拟机] /wiki/%E8%99%9A%E6%8B%9F%E6%9C%BA\n外部連結: [虚拟机] /wiki/%E8%99%9A%E6%8B%9F%E6%9C%BA\n外部連結: [虚拟机] /wiki/%E8%99%9A%E6%8B%9F%E6%9C%BA\n外部連結: [虚拟机] /wiki/%E8%99%9A%E6%8B%9F%E6%9C%BA\n外部連結: [虚拟机] /wiki/%E8%99%9A%E6%8B%9F%E6%9C%BA\n外部連結: [虚拟机] /wiki/%E8%99%9A%E6%8B%9F%E6%9C%BA\n外部連結: [虚拟机] /wiki/%E8%99%9A%E6%8B%9F%E6%9C%BA\n外部連結: [虚拟机] /wiki/%E8%99%9A%E6%8B%9F%E6%9C%BA\n外部連結: [虚拟机] /wiki/%E8%99%9A%E6%8B%9F%E6%9C%BA\n外部連結: [虚拟机] /wiki/%E8%99%9A%E6%8B%9F%E6%9C%BA\n外部連結: [虚拟机] /wiki/%E8%99%9A%E6%8B%9F%E6%9C%BA\n外部連結: [虚拟机] /wiki/%E8%99%9A%E6%8B%9F%E6%9C%BA\n外部連結: [虚拟机] /wiki/%E8%99%9A%E6%8B%9F%E6%9C%BA\n外部連結: [虚拟机] /wiki/%E8%99%9A%E6%8B%9F%E6%9C%BA\n外部連結: [虚拟机] /wiki/%E8%99%9A%E6%8B%9F%E6%9C%BA\n外部連結: [虚拟机] /wiki/%E8%99%9A%E6%8B%9F%E6%9C%BA\n外部連結: [虚拟机] /wiki/%E8%99%9A%E6%8B%9F%E6%9C%BA\n外部連結: [虚拟机] /wiki/%E8%99%9A%E6%8B%9F%E6%9C%BA\n外部連結: [虚拟机] /wiki/%E8%99%9A%E6%8B%9F%E6%9C%BA\n外部連結: [虚拟机] /wiki/%E8%99%9A%E6%8B%9F%E6%9C%BA\n外部連結: [虚拟机] /wiki/%E8%99%9A%E6%8B%9F%E6%9C%BA\n外部連結: [虚拟机] /wiki/%E8%99%9A%E6%8B%9F%E6%9C%BA\n外部連結: [虚拟机] /wiki/%E8%99%9A%E6%8B%9F%E6%9C%BA\n外部連結: [虚拟机] /wiki/%E8%99%9A%E6%8B%9F%E6%9C%BA\n外部連結: [虚拟机] /wiki/%E8%99%9A%E6%8B%9F%E6%9C%BA\n外部連結: [虚拟机] /wiki/%E8%99%9A%E6%8B%9F%E6%9C%BA\n外部連結: [虚拟机] /wiki/%E8%99%9A%E6%8B%9F%E6%9C%BA\n外部連結: [虚拟机] /wiki/%E8%99%9A%E6%8B%9F%E6%9C%BA\n外部連結: [虚拟机] /wiki/%E8%99%9A%E6%8B%9F%E6%9C%BA\n外部連結: [虚拟机] /wiki/%E8%99%9A%E6%8B%9F%E6%9C%BA\n外部連結: [虚拟机] /wiki/%E8%99%9A%E6%8B%9F%E6%9C%BA\n外部連結: [虚拟机] /wiki/%E8%99%9A%E6%8B%9F%E6%9C%BA\n外部連結: [虚拟机] /wiki/%E8%99%9A%E6%8B%9F%E6%9C%BA\n外部連結: [虚拟机] /wiki/%E8%99%9A%E6%8B%9F%E6%9C%BA\n外部連結: [虚拟机] /wiki/%E8%99%9A%E6%8B%9F%E6%9C%BA\n外部連結: [虚拟机] /wiki/%E8%99%9A%E6%8B%9F%E6%9C%BA\n外部連結: [虚拟机] /wiki/%E8%99%9A%E6%8B%9F%E6%9C%BA\n外部連結: [虚拟机] /wiki/%E8%99%9A%E6%8B%9F%E6%9C%BA\n外部連結: [虚拟机] /wiki/%E8%99%9A%E6%8B%9F%E6%9C%BA\n外部連結: [虚拟机] /wiki/%E8%99%9A%E6%8B%9F%E6%9C%BA\n外部連結: [虚拟机] /wiki/%E8%99%9A%E6%8B%9F%E6%9C%BA\n外部連結: [虚拟机] /wiki/%E8%99%9A%E6%8B%9F%E6%9C%BA\n外部連結: [虚拟机] /wiki/%E8%99%9A%E6%8B%9F%E6%9C%BA\n外部連結: [虚拟机] /wiki/%E8%99%9A%E6%8B%9F%E6%9C%BA\n外部連結: [虚拟机] /wiki/%E8%99%9A%E6%8B%9F%E6%9C%BA\n外部連結: [虚拟机] /wiki/%E8%99%9A%E6%8B%9F%E6%9C%BA\n外部連結: [虚拟机] /wiki/%E8%99%9A%E6%8B%9F%E6%9C%BA\n外部連結: [虚拟机] /wiki/%E8%99%9A%E6%8B%9F%E6%9C%BA\n外部連結: [虚拟机] /wiki/%E8%99%9A%E6%8B%9F%E6%9C%BA\n外部連結: [虚拟机] /wiki/%E8%99%9A%E6%8B%9F%E6%9C%BA\n外部連結: [虚拟机] /wiki/%E8%99%9A%E6%8B%9F%E6%9C%BA\n外部連結: [虚拟机] /wiki/%E8%99%9A%E6%8B%9F%E6%9C%BA\n外部連結: [虚拟机] /wiki/%E8%99%9A%E6%8B%9F%E6%9C%BA\n外部連結: [虚拟机] /wiki/%E8%99%9A%E6%8B%9F%E6%9C%BA\n外部連結: [虚拟机] /wiki/%E8%99%9A%E6%8B%9F%E6%9C%BA\n外部連結: [虚拟机] /wiki/%E8%99%9A%E6%8B%9F%E6%9C%BA\n外部連結: [虚拟机] /wiki/%E8%99%9A%E6%8B%9F%E6%9C%BA\n外部連結: [虚拟机] /wiki/%E8%99%9A%E6%8B%9F%E6%9C%BA\n外部連結: [虚拟机] /wiki/%E8%99%9A%E6%8B%9F%E6%9C%BA\n外部連結: [虚拟机] /wiki/%E8%99%9A%E6%8B%9F%E6%9C%BA\n外部連結: [虚拟机] /wiki/%E8%99%9A%E6%8B%9F%E6%9C%BA\n外部連結: [虚拟机] /wiki/%E8%99%9A%E6%8B%9F%E6%9C%BA\n外部連結: [虚拟机] /wiki/%E8%99%9A%E6%8B%9F%E6%9C%BA\n外部連結: [虚拟机] /wiki/%E8%99%9A%E6%8B%9F%E6%9C%BA\n外部連結: [虚拟机] /wiki/%E8%99%9A%E6%8B%9F%E6%9C%BA\n外部連結: [虚拟机] /wiki/%E8%99%9A%E6%8B%9F%E6%9C%BA\n外部連結: [虚拟机] /wiki/%E8%99%9A%E6%8B%9F%E6%9C%BA\n外部連結: [虚拟机] /wiki/%E8%99%9A%E6%8B%9F%E6%9C%BA\n外部連結: [虚拟机] /wiki/%E8%99%9A%E6%8B%9F%E6%9C%BA\n外部連結: [虚拟机] /wiki/%E8%99%9A%E6%8B%9F%E6%9C%BA\n外部連結: [虚拟机] /wiki/%E8%99%9A%E6%8B%9F%E6%9C%BA\n外部連結: [虚拟机] /wiki/%E8%99%9A%E6%8B%9F%E6%9C%BA\n外部連結: [虚拟机] /wiki/%E8%99%9A%E6%8B%9F%E6%9C%BA\n外部連結: [虚拟机] /wiki/%E8%99%9A%E6%8B%9F%E6%9C%BA\n外部連結: [虚拟机] /wiki/%E8%99%9A%E6%8B%9F%E6%9C%BA\n外部連結: [虚拟机] /wiki/%E8%99%9A%E6%8B%9F%E6%9C%BA\n外部連結: [虚拟机] /wiki/%E8%99%9A%E6%8B%9F%E6%9C%BA\n外部連結: [虚拟机] /wiki/%E8%99%9A%E6%8B%9F%E6%9C%BA\n外部連結: [虚拟机] /wiki/%E8%99%9A%E6%8B%9F%E6%9C%BA\n外部連結: [虚拟机] /wiki/%E8%99%9A%E6%8B%9F%E6%9C%BA\n外部連結: [虚拟机] /wiki/%E8%99%9A%E6%8B%9F%E6%9C%BA\n外部連結: [虚拟机] /wiki/%E8%99%9A%E6%8B%9F%E6%9C%BA\n外部連結: [虚拟机] /wiki/%E8%99%9A%E6%8B%9F%E6%9C%BA\n外部連結: [虚拟机] /wiki/%E8%99%9A%E6%8B%9F%E6%9C%BA\n外部連結: [虚拟机] /wiki/%E8%99%9A%E6%8B%9F%E6%9C%BA\n外部連結: [虚拟机] /wiki/%E8%99%9A%E6%8B%9F%E6%9C%BA\n外部連結: [虚拟机] /wiki/%E8%99%9A%E6%8B%9F%E6%9C%BA\n外部連結: [虚拟机] /wiki/%E8%99%9A%E6%8B%9F%E6%9C%BA\n外部連結: [虚拟机] /wiki/%E8%99%9A%E6%8B%9F%E6%9C%BA\n外部連結: [虚拟机] /wiki/%E8%99%9A%E6%8B%9F%E6%9C%BA\n外部連結: [虚拟机] /wiki/%E8%99%9A%E6%8B%9F%E6%9C%BA\n外部連結: [虚拟机] /wiki/%E8%99%9A%E6%8B%9F%E6%9C%BA\n外部連結: [虚拟机] /wiki/%E8%99%9A%E6%8B%9F%E6%9C%BA\n外部連結: [虚拟机] /wiki/%E8%99%9A%E6%8B%9F%E6%9C%BA\n外部連結: [虚拟机] /wiki/%E8%99%9A%E6%8B%9F%E6%9C%BA\n外部連結: [虚拟机] /wiki/%E8%99%9A%E6%8B%9F%E6%9C%BA\n外部連結: [虚拟机] /wiki/%E8%99%9A%E6%8B%9F%E6%9C%BA\n外部連結: [虚拟机] /wiki/%E8%99%9A%E6%8B%9F%E6%9C%BA\n外部連結: [虚拟机] /wiki/%E8%99%9A%E6%8B%9F%E6%9C%BA\n外部連結: [虚拟机] /wiki/%E8%99%9A%E6%8B%9F%E6%9C%BA\n外部連結: [虚拟机] /wiki/%E8%99%9A%E6%8B%9F%E6%9C%BA\n外部連結: [虚拟机] /wiki/%E8%99%9A%E6%8B%9F%E6%9C%BA\n外部連結: [虚拟机] /wiki/%E8%99%9A%E6%8B%9F%E6%9C%BA\n外部連結: [虚拟机] /wiki/%E8%99%9A%E6%8B%9F%E6%9C%BA\n外部連結: [虚拟机] /wiki/%E8%99%9A%E6%8B%9F%E6%9C%BA\n外部連結: [虚拟机] /wiki/%E8%99%9A%E6%8B%9F%E6%9C%BA\n外部連結: [虚拟机] /wiki/%E8%99%9A%E6%8B%9F%E6%9C%BA\n外部連結: [虚拟机] /wiki/%E8%99%9A%E6%8B%9F%E6%9C%BA\n外部連結: [虚拟机] /wiki/%E8%99%9A%E6%8B%9F%E6%9C%BA\n外部連結: [虚拟机] /wiki/%E8%99%9A%E6%8B%9F%E6%9C%BA\n外部連結: [虚拟机] /wiki/%E8%99%9A%E6%8B%9F%E6%9C%BA\n外部連結: [虚拟机] /wiki/%E8%99%9A%E6%8B%9F%E6%9C%BA\n外部連結: [虚拟机] /wiki/%E8%99%9A%E6%8B%9F%E6%9C%BA\n外部連結: [虚拟机] /wiki/%E8%99%9A%E6%8B%9F%E6%9C%BA\n外部連結: [虚拟机] /wiki/%E8%99%9A%E6%8B%9F%E6%9C%BA\n外部連結: [虚拟机] /wiki/%E8%99%9A%E6%8B%9F%E6%9C%BA\n外部連結: [虚拟机] /wiki/%E8%99%9A%E6%8B%9F%E6%9C%BA\n外部連結: [虚拟机] /wiki/%E8%99%9A%E6%8B%9F%E6%9C%BA\n外部連結: [虚拟机] /wiki/%E8%99%9A%E6%8B%9F%E6%9C%BA\n外部連結: [虚拟机] /wiki/%E8%99%9A%E6%8B%9F%E6%9C%BA\n外部連結: [虚拟机] /wiki/%E8%99%9A%E6%8B%9F%E6%9C%BA\n外部連結: [虚拟机] /wiki/%E8%99%9A%E6%8B%9F%E6%9C%BA\n外部連結: [虚拟机] /wiki/%E8%99%9A%E6%8B%9F%E6%9C%BA\n外部連結: [虚拟机] /wiki/%E8%99%9A%E6%8B%9F%E6%9C%BA\n外部連結: [虚拟机] /wiki/%E8%99%9A%E6%8B%9F%E6%9C%BA\n外部連結: [虚拟机] /wiki/%E8%99%9A%E6%8B%9F%E6%9C%BA\n外部連結: [虚拟机] /wiki/%E8%99%9A%E6%8B%9F%E6%9C%BA\n外部連結: [虚拟机] /wiki/%E8%99%9A%E6%8B%9F%E6%9C%BA\n外部連結: [虚拟机] /wiki/%E8%99%9A%E6%8B%9F%E6%9C%BA\n外部連結: [虚拟机] /wiki/%E8%99%9A%E6%8B%9F%E6%9C%BA\n外部連結: [虚拟机] /wiki/%E8%99%9A%E6%8B%9F%E6%9C%BA\n外部連結: [虚拟机] /wiki/%E8%99%9A%E6%8B%9F%E6%9C%BA\n外部連結: [虚拟机] /wiki/%E8%99%9A%E6%8B%9F%E6%9C%BA\n外部連結: [虚拟机] /wiki/%E8%99%9A%E6%8B%9F%E6%9C%BA\n外部連結: [虚拟机] /wiki/%E8%99%9A%E6%8B%9F%E6%9C%BA\n外部連結: [虚拟机] /wiki/%E8%99%9A%E6%8B%9F%E6%9C%BA\n外部連結: [虚拟机] /wiki/%E8%99%9A%E6%8B%9F%E6%9C%BA\n外部連結: [虚拟机] /wiki/%E8%99%9A%E6%8B%9F%E6%9C%BA\n外部連結: [虚拟机] /wiki/%E8%99%9A%E6%8B%9F%E6%9C%BA\n外部連結: [虚拟机] /wiki/%E8%99%9A%E6%8B%9F%E6%9C%BA\n外部連結: [虚拟机] /wiki/%E8%99%9A%E6%8B%9F%E6%9C%BA\n外部連結: [虚拟机] /wiki/%E8%99%9A%E6%8B%9F%E6%9C%BA\n外部連結: [虚拟机] /wiki/%E8%99%9A%E6%8B%9F%E6%9C%BA\n外部連結: [虚拟机] /wiki/%E8%99%9A%E6%8B%9F%E6%9C%BA\n外部連結: [虚拟机] /wiki/%E8%99%9A%E6%8B%9F%E6%9C%BA\n外部連結: [虚拟机] /wiki/%E8%99%9A%E6%8B%9F%E6%9C%BA\n外部連結: [虚拟机] /wiki/%E8%99%9A%E6%8B%9F%E6%9C%BA\n外部連結: [虚拟机] /wiki/%E8%99%9A%E6%8B%9F%E6%9C%BA\n外部連結: [虚拟机] /wiki/%E8%99%9A%E6%8B%9F%E6%9C%BA\n外部連結: [虚拟机] /wiki/%E8%99%9A%E6%8B%9F%E6%9C%BA\n外部連結: [虚拟机] /wiki/%E8%99%9A%E6%8B%9F%E6%9C%BA\n外部連結: [虚拟机] /wiki/%E8%99%9A%E6%8B%9F%E6%9C%BA\n外部連結: [虚拟机] /wiki/%E8%99%9A%E6%8B%9F%E6%9C%BA\n外部連結: [虚拟机] /wiki/%E8%99%9A%E6%8B%9F%E6%9C%BA\n外部連結: [虚拟机] /wiki/%E8%99%9A%E6%8B%9F%E6%9C%BA\n外部連結: [虚拟机] /wiki/%E8%99%9A%E6%8B%9F%E6%9C%BA\n外部連結: [虚拟机] /wiki/%E8%99%9A%E6%8B%9F%E6%9C%BA\n外部連結: [虚拟机] /wiki/%E8%99%9A%E6%8B%9F%E6%9C%BA\n外部連結: [虚拟机] /wiki/%E8%99%9A%E6%8B%9F%E6%9C%BA\n外部連結: [虚拟机] /wiki/%E8%99%9A%E6%8B%9F%E6%9C%BA\n外部連結: [虚拟机] /wiki/%E8%99%9A%E6%8B%9F%E6%9C%BA\n外部連結: [虚拟机] /wiki/%E8%99%9A%E6%8B%9F%E6%9C%BA\n外部連結: [虚拟机] /wiki/%E8%99%9A%E6%8B%9F%E6%9C%BA\n外部連結: [虚拟机] /wiki/%E8%99%9A%E6%8B%9F%E6%9C%BA\n外部連結: [虚拟机] /wiki/%E8%99%9A%E6%8B%9F%E6%9C%BA\n外部連結: [虚拟机] /wiki/%E8%99%9A%E6%8B%9F%E6%9C%BA\n外部連結: [虚拟机] /wiki/%E8%99%9A%E6%8B%9F%E6%9C%BA\n外部連結: [虚拟机] /wiki/%E8%99%9A%E6%8B%9F%E6%9C%BA\n外部連結: [虚拟机] /wiki/%E8%99%9A%E6%8B%9F%E6%9C%BA\n外部連結: [虚拟机] /wiki/%E8%99%9A%E6%8B%9F%E6%9C%BA\n外部連結: [虚拟机] /wiki/%E8%99%9A%E6%8B%9F%E6%9C%BA\n外部連結: [虚拟机] /wiki/%E8%99%9A%E6%8B%9F%E6%9C%BA\n外部連結: [虚拟机] /wiki/%E8%99%9A%E6%8B%9F%E6%9C%BA\n外部連結: [虚拟机] /wiki/%E8%99%9A%E6%8B%9F%E6%9C%BA\n遞迴層[1] - /wiki/Wikipedia:%E7%BF%BB%E8%AF%91%E5%AE%88%E5%88%99 (参考外语维基百科扩充条目)\n外部連結: [虚拟机] /wiki/%E8%99%9A%E6%8B%9F%E6%9C%BA\n外部連結: [虚拟机] /wiki/%E8%99%9A%E6%8B%9F%E6%9C%BA\n外部連結: [虚拟机] /wiki/%E8%99%9A%E6%8B%9F%E6%9C%BA\n外部連結: [虚拟机] /wiki/%E8%99%9A%E6%8B%9F%E6%9C%BA\n外部連結: [虚拟机] /wiki/%E8%99%9A%E6%8B%9F%E6%9C%BA\n外部連結: [虚拟机] /wiki/%E8%99%9A%E6%8B%9F%E6%9C%BA\n外部連結: [虚拟机] /wiki/%E8%99%9A%E6%8B%9F%E6%9C%BA\n外部連結: [虚拟机] /wiki/%E8%99%9A%E6%8B%9F%E6%9C%BA\n外部連結: [虚拟机] /wiki/%E8%99%9A%E6%8B%9F%E6%9C%BA\n外部連結: [虚拟机] /wiki/%E8%99%9A%E6%8B%9F%E6%9C%BA\n外部連結: [虚拟机] /wiki/%E8%99%9A%E6%8B%9F%E6%9C%BA\n外部連結: [虚拟机] /wiki/%E8%99%9A%E6%8B%9F%E6%9C%BA\n外部連結: [虚拟机] /wiki/%E8%99%9A%E6%8B%9F%E6%9C%BA\n外部連結: [虚拟机] /wiki/%E8%99%9A%E6%8B%9F%E6%9C%BA\n外部連結: [虚拟机] /wiki/%E8%99%9A%E6%8B%9F%E6%9C%BA\n外部連結: [虚拟机] /wiki/%E8%99%9A%E6%8B%9F%E6%9C%BA\n外部連結: [虚拟机] /wiki/%E8%99%9A%E6%8B%9F%E6%9C%BA\n外部連結: [虚拟机] /wiki/%E8%99%9A%E6%8B%9F%E6%9C%BA\n外部連結: [虚拟机] /wiki/%E8%99%9A%E6%8B%9F%E6%9C%BA\n外部連結: [虚拟机] /wiki/%E8%99%9A%E6%8B%9F%E6%9C%BA\n外部連結: [虚拟机] /wiki/%E8%99%9A%E6%8B%9F%E6%9C%BA\n外部連結: [虚拟机] /wiki/%E8%99%9A%E6%8B%9F%E6%9C%BA\n外部連結: [虚拟机] /wiki/%E8%99%9A%E6%8B%9F%E6%9C%BA\n外部連結: [虚拟机] /wiki/%E8%99%9A%E6%8B%9F%E6%9C%BA\n外部連結: [虚拟机] /wiki/%E8%99%9A%E6%8B%9F%E6%9C%BA\n外部連結: [虚拟机] /wiki/%E8%99%9A%E6%8B%9F%E6%9C%BA\n外部連結: [虚拟机] /wiki/%E8%99%9A%E6%8B%9F%E6%9C%BA\n外部連結: [虚拟机] /wiki/%E8%99%9A%E6%8B%9F%E6%9C%BA\n外部連結: [虚拟机] /wiki/%E8%99%9A%E6%8B%9F%E6%9C%BA\n外部連結: [虚拟机] /wiki/%E8%99%9A%E6%8B%9F%E6%9C%BA\n外部連結: [虚拟机] /wiki/%E8%99%9A%E6%8B%9F%E6%9C%BA\n外部連結: [虚拟机] /wiki/%E8%99%9A%E6%8B%9F%E6%9C%BA\n外部連結: [虚拟机] /wiki/%E8%99%9A%E6%8B%9F%E6%9C%BA\n外部連結: [虚拟机] /wiki/%E8%99%9A%E6%8B%9F%E6%9C%BA\n外部連結: [虚拟机] /wiki/%E8%99%9A%E6%8B%9F%E6%9C%BA\n外部連結: [虚拟机] /wiki/%E8%99%9A%E6%8B%9F%E6%9C%BA\n外部連結: [虚拟机] /wiki/%E8%99%9A%E6%8B%9F%E6%9C%BA\n外部連結: [虚拟机] /wiki/%E8%99%9A%E6%8B%9F%E6%9C%BA\n外部連結: [虚拟机] /wiki/%E8%99%9A%E6%8B%9F%E6%9C%BA\n外部連結: [虚拟机] /wiki/%E8%99%9A%E6%8B%9F%E6%9C%BA\n外部連結: [虚拟机] /wiki/%E8%99%9A%E6%8B%9F%E6%9C%BA\n外部連結: [虚拟机] /wiki/%E8%99%9A%E6%8B%9F%E6%9C%BA\n外部連結: [虚拟机] /wiki/%E8%99%9A%E6%8B%9F%E6%9C%BA\n外部連結: [虚拟机] /wiki/%E8%99%9A%E6%8B%9F%E6%9C%BA\n外部連結: [虚拟机] /wiki/%E8%99%9A%E6%8B%9F%E6%9C%BA\n外部連結: [虚拟机] /wiki/%E8%99%9A%E6%8B%9F%E6%9C%BA\n外部連結: [虚拟机] /wiki/%E8%99%9A%E6%8B%9F%E6%9C%BA\n外部連結: [虚拟机] /wiki/%E8%99%9A%E6%8B%9F%E6%9C%BA\n外部連結: [虚拟机] /wiki/%E8%99%9A%E6%8B%9F%E6%9C%BA\n外部連結: [虚拟机] /wiki/%E8%99%9A%E6%8B%9F%E6%9C%BA\n外部連結: [虚拟机] /wiki/%E8%99%9A%E6%8B%9F%E6%9C%BA\n外部連結: [虚拟机] /wiki/%E8%99%9A%E6%8B%9F%E6%9C%BA\n外部連結: [虚拟机] /wiki/%E8%99%9A%E6%8B%9F%E6%9C%BA\n外部連結: [虚拟机] /wiki/%E8%99%9A%E6%8B%9F%E6%9C%BA\n外部連結: [虚拟机] /wiki/%E8%99%9A%E6%8B%9F%E6%9C%BA\n外部連結: [虚拟机] /wiki/%E8%99%9A%E6%8B%9F%E6%9C%BA\n外部連結: [虚拟机] /wiki/%E8%99%9A%E6%8B%9F%E6%9C%BA\n外部連結: [虚拟机] /wiki/%E8%99%9A%E6%8B%9F%E6%9C%BA\n外部連結: [虚拟机] /wiki/%E8%99%9A%E6%8B%9F%E6%9C%BA\n外部連結: [虚拟机] /wiki/%E8%99%9A%E6%8B%9F%E6%9C%BA\n外部連結: [虚拟机] /wiki/%E8%99%9A%E6%8B%9F%E6%9C%BA\n外部連結: [虚拟机] /wiki/%E8%99%9A%E6%8B%9F%E6%9C%BA\n外部連結: [虚拟机] /wiki/%E8%99%9A%E6%8B%9F%E6%9C%BA\n外部連結: [虚拟机] /wiki/%E8%99%9A%E6%8B%9F%E6%9C%BA\n外部連結: [虚拟机] /wiki/%E8%99%9A%E6%8B%9F%E6%9C%BA\n外部連結: [虚拟机] /wiki/%E8%99%9A%E6%8B%9F%E6%9C%BA\n外部連結: [虚拟机] /wiki/%E8%99%9A%E6%8B%9F%E6%9C%BA\n外部連結: [虚拟机] /wiki/%E8%99%9A%E6%8B%9F%E6%9C%BA\n外部連結: [虚拟机] /wiki/%E8%99%9A%E6%8B%9F%E6%9C%BA\n外部連結: [虚拟机] /wiki/%E8%99%9A%E6%8B%9F%E6%9C%BA\n外部連結: [虚拟机] /wiki/%E8%99%9A%E6%8B%9F%E6%9C%BA\n外部連結: [虚拟机] /wiki/%E8%99%9A%E6%8B%9F%E6%9C%BA\n外部連結: [虚拟机] /wiki/%E8%99%9A%E6%8B%9F%E6%9C%BA\n外部連結: [虚拟机] /wiki/%E8%99%9A%E6%8B%9F%E6%9C%BA\n外部連結: [虚拟机] /wiki/%E8%99%9A%E6%8B%9F%E6%9C%BA\n外部連結: [虚拟机] /wiki/%E8%99%9A%E6%8B%9F%E6%9C%BA\n外部連結: [虚拟机] /wiki/%E8%99%9A%E6%8B%9F%E6%9C%BA\n外部連結: [虚拟机] /wiki/%E8%99%9A%E6%8B%9F%E6%9C%BA\n外部連結: [虚拟机] /wiki/%E8%99%9A%E6%8B%9F%E6%9C%BA\n外部連結: [虚拟机] /wiki/%E8%99%9A%E6%8B%9F%E6%9C%BA\n外部連結: [虚拟机] /wiki/%E8%99%9A%E6%8B%9F%E6%9C%BA\n外部連結: [虚拟机] /wiki/%E8%99%9A%E6%8B%9F%E6%9C%BA\n外部連結: [虚拟机] /wiki/%E8%99%9A%E6%8B%9F%E6%9C%BA\n外部連結: [虚拟机] /wiki/%E8%99%9A%E6%8B%9F%E6%9C%BA\n外部連結: [虚拟机] /wiki/%E8%99%9A%E6%8B%9F%E6%9C%BA\n外部連結: [虚拟机] /wiki/%E8%99%9A%E6%8B%9F%E6%9C%BA\n外部連結: [虚拟机] /wiki/%E8%99%9A%E6%8B%9F%E6%9C%BA\n外部連結: [虚拟机] /wiki/%E8%99%9A%E6%8B%9F%E6%9C%BA\n外部連結: [虚拟机] /wiki/%E8%99%9A%E6%8B%9F%E6%9C%BA\n外部連結: [虚拟机] /wiki/%E8%99%9A%E6%8B%9F%E6%9C%BA\n外部連結: [虚拟机] /wiki/%E8%99%9A%E6%8B%9F%E6%9C%BA\n外部連結: [虚拟机] /wiki/%E8%99%9A%E6%8B%9F%E6%9C%BA\n外部連結: [虚拟机] /wiki/%E8%99%9A%E6%8B%9F%E6%9C%BA\n外部連結: [虚拟机] /wiki/%E8%99%9A%E6%8B%9F%E6%9C%BA\n外部連結: [虚拟机] /wiki/%E8%99%9A%E6%8B%9F%E6%9C%BA\n外部連結: [虚拟机] /wiki/%E8%99%9A%E6%8B%9F%E6%9C%BA\n外部連結: [虚拟机] /wiki/%E8%99%9A%E6%8B%9F%E6%9C%BA\n外部連結: [虚拟机] /wiki/%E8%99%9A%E6%8B%9F%E6%9C%BA\n外部連結: [虚拟机] /wiki/%E8%99%9A%E6%8B%9F%E6%9C%BA\n外部連結: [虚拟机] /wiki/%E8%99%9A%E6%8B%9F%E6%9C%BA\n外部連結: [虚拟机] /wiki/%E8%99%9A%E6%8B%9F%E6%9C%BA\n外部連結: [虚拟机] /wiki/%E8%99%9A%E6%8B%9F%E6%9C%BA\n外部連結: [虚拟机] /wiki/%E8%99%9A%E6%8B%9F%E6%9C%BA\n外部連結: [虚拟机] /wiki/%E8%99%9A%E6%8B%9F%E6%9C%BA\n外部連結: [虚拟机] /wiki/%E8%99%9A%E6%8B%9F%E6%9C%BA\n外部連結: [虚拟机] /wiki/%E8%99%9A%E6%8B%9F%E6%9C%BA\n外部連結: [虚拟机] /wiki/%E8%99%9A%E6%8B%9F%E6%9C%BA\n外部連結: [虚拟机] /wiki/%E8%99%9A%E6%8B%9F%E6%9C%BA\n外部連結: [虚拟机] /wiki/%E8%99%9A%E6%8B%9F%E6%9C%BA\n外部連結: [虚拟机] /wiki/%E8%99%9A%E6%8B%9F%E6%9C%BA\n外部連結: [虚拟机] /wiki/%E8%99%9A%E6%8B%9F%E6%9C%BA\n外部連結: [虚拟机] /wiki/%E8%99%9A%E6%8B%9F%E6%9C%BA\n外部連結: [虚拟机] /wiki/%E8%99%9A%E6%8B%9F%E6%9C%BA\n外部連結: [虚拟机] /wiki/%E8%99%9A%E6%8B%9F%E6%9C%BA\n外部連結: [虚拟机] /wiki/%E8%99%9A%E6%8B%9F%E6%9C%BA\n外部連結: [虚拟机] /wiki/%E8%99%9A%E6%8B%9F%E6%9C%BA\n外部連結: [虚拟机] /wiki/%E8%99%9A%E6%8B%9F%E6%9C%BA\n外部連結: [虚拟机] /wiki/%E8%99%9A%E6%8B%9F%E6%9C%BA\n外部連結: [虚拟机] /wiki/%E8%99%9A%E6%8B%9F%E6%9C%BA\n外部連結: [虚拟机] /wiki/%E8%99%9A%E6%8B%9F%E6%9C%BA\n外部連結: [虚拟机] /wiki/%E8%99%9A%E6%8B%9F%E6%9C%BA\n外部連結: [虚拟机] /wiki/%E8%99%9A%E6%8B%9F%E6%9C%BA\n外部連結: [虚拟机] /wiki/%E8%99%9A%E6%8B%9F%E6%9C%BA\n外部連結: [虚拟机] /wiki/%E8%99%9A%E6%8B%9F%E6%9C%BA\n外部連結: [虚拟机] /wiki/%E8%99%9A%E6%8B%9F%E6%9C%BA\n外部連結: [虚拟机] /wiki/%E8%99%9A%E6%8B%9F%E6%9C%BA\n外部連結: [虚拟机] /wiki/%E8%99%9A%E6%8B%9F%E6%9C%BA\n外部連結: [虚拟机] /wiki/%E8%99%9A%E6%8B%9F%E6%9C%BA\n外部連結: [虚拟机] /wiki/%E8%99%9A%E6%8B%9F%E6%9C%BA\n外部連結: [虚拟机] /wiki/%E8%99%9A%E6%8B%9F%E6%9C%BA\n外部連結: [虚拟机] /wiki/%E8%99%9A%E6%8B%9F%E6%9C%BA\n外部連結: [虚拟机] /wiki/%E8%99%9A%E6%8B%9F%E6%9C%BA\n外部連結: [虚拟机] /wiki/%E8%99%9A%E6%8B%9F%E6%9C%BA\n外部連結: [虚拟机] /wiki/%E8%99%9A%E6%8B%9F%E6%9C%BA\n外部連結: [虚拟机] /wiki/%E8%99%9A%E6%8B%9F%E6%9C%BA\n外部連結: [虚拟机] /wiki/%E8%99%9A%E6%8B%9F%E6%9C%BA\n外部連結: [虚拟机] /wiki/%E8%99%9A%E6%8B%9F%E6%9C%BA\n外部連結: [虚拟机] /wiki/%E8%99%9A%E6%8B%9F%E6%9C%BA\n外部連結: [虚拟机] /wiki/%E8%99%9A%E6%8B%9F%E6%9C%BA\n外部連結: [虚拟机] /wiki/%E8%99%9A%E6%8B%9F%E6%9C%BA\n外部連結: [虚拟机] /wiki/%E8%99%9A%E6%8B%9F%E6%9C%BA\n外部連結: [虚拟机] /wiki/%E8%99%9A%E6%8B%9F%E6%9C%BA\n外部連結: [虚拟机] /wiki/%E8%99%9A%E6%8B%9F%E6%9C%BA\n外部連結: [虚拟机] /wiki/%E8%99%9A%E6%8B%9F%E6%9C%BA\n外部連結: [虚拟机] /wiki/%E8%99%9A%E6%8B%9F%E6%9C%BA\n外部連結: [虚拟机] /wiki/%E8%99%9A%E6%8B%9F%E6%9C%BA\n外部連結: [虚拟机] /wiki/%E8%99%9A%E6%8B%9F%E6%9C%BA\n外部連結: [虚拟机] /wiki/%E8%99%9A%E6%8B%9F%E6%9C%BA\n外部連結: [虚拟机] /wiki/%E8%99%9A%E6%8B%9F%E6%9C%BA\n外部連結: [虚拟机] /wiki/%E8%99%9A%E6%8B%9F%E6%9C%BA\n外部連結: [虚拟机] /wiki/%E8%99%9A%E6%8B%9F%E6%9C%BA\n外部連結: [虚拟机] /wiki/%E8%99%9A%E6%8B%9F%E6%9C%BA\n外部連結: [虚拟机] /wiki/%E8%99%9A%E6%8B%9F%E6%9C%BA\n外部連結: [虚拟机] /wiki/%E8%99%9A%E6%8B%9F%E6%9C%BA\n外部連結: [虚拟机] /wiki/%E8%99%9A%E6%8B%9F%E6%9C%BA\n外部連結: [虚拟机] /wiki/%E8%99%9A%E6%8B%9F%E6%9C%BA\n外部連結: [虚拟机] /wiki/%E8%99%9A%E6%8B%9F%E6%9C%BA\n外部連結: [虚拟机] /wiki/%E8%99%9A%E6%8B%9F%E6%9C%BA\n外部連結: [虚拟机] /wiki/%E8%99%9A%E6%8B%9F%E6%9C%BA\n外部連結: [虚拟机] /wiki/%E8%99%9A%E6%8B%9F%E6%9C%BA\n外部連結: [虚拟机] /wiki/%E8%99%9A%E6%8B%9F%E6%9C%BA\n外部連結: [虚拟机] /wiki/%E8%99%9A%E6%8B%9F%E6%9C%BA\n外部連結: [虚拟机] /wiki/%E8%99%9A%E6%8B%9F%E6%9C%BA\n外部連結: [虚拟机] /wiki/%E8%99%9A%E6%8B%9F%E6%9C%BA\n外部連結: [虚拟机] /wiki/%E8%99%9A%E6%8B%9F%E6%9C%BA\n外部連結: [虚拟机] /wiki/%E8%99%9A%E6%8B%9F%E6%9C%BA\n外部連結: [虚拟机] /wiki/%E8%99%9A%E6%8B%9F%E6%9C%BA\n外部連結: [虚拟机] /wiki/%E8%99%9A%E6%8B%9F%E6%9C%BA\n外部連結: [虚拟机] /wiki/%E8%99%9A%E6%8B%9F%E6%9C%BA\n外部連結: [虚拟机] /wiki/%E8%99%9A%E6%8B%9F%E6%9C%BA\n外部連結: [虚拟机] /wiki/%E8%99%9A%E6%8B%9F%E6%9C%BA\n外部連結: [虚拟机] /wiki/%E8%99%9A%E6%8B%9F%E6%9C%BA\n外部連結: [虚拟机] /wiki/%E8%99%9A%E6%8B%9F%E6%9C%BA\n外部連結: [虚拟机] /wiki/%E8%99%9A%E6%8B%9F%E6%9C%BA\n外部連結: [虚拟机] /wiki/%E8%99%9A%E6%8B%9F%E6%9C%BA\n外部連結: [虚拟机] /wiki/%E8%99%9A%E6%8B%9F%E6%9C%BA\n外部連結: [虚拟机] /wiki/%E8%99%9A%E6%8B%9F%E6%9C%BA\n外部連結: [虚拟机] /wiki/%E8%99%9A%E6%8B%9F%E6%9C%BA\n外部連結: [虚拟机] /wiki/%E8%99%9A%E6%8B%9F%E6%9C%BA\n外部連結: [虚拟机] /wiki/%E8%99%9A%E6%8B%9F%E6%9C%BA\n外部連結: [虚拟机] /wiki/%E8%99%9A%E6%8B%9F%E6%9C%BA\n外部連結: [虚拟机] /wiki/%E8%99%9A%E6%8B%9F%E6%9C%BA\n外部連結: [虚拟机] /wiki/%E8%99%9A%E6%8B%9F%E6%9C%BA\n外部連結: [虚拟机] /wiki/%E8%99%9A%E6%8B%9F%E6%9C%BA\n外部連結: [虚拟机] /wiki/%E8%99%9A%E6%8B%9F%E6%9C%BA\n外部連結: [虚拟机] /wiki/%E8%99%9A%E6%8B%9F%E6%9C%BA\n外部連結: [虚拟机] /wiki/%E8%99%9A%E6%8B%9F%E6%9C%BA\n外部連結: [虚拟机] /wiki/%E8%99%9A%E6%8B%9F%E6%9C%BA\n外部連結: [虚拟机] /wiki/%E8%99%9A%E6%8B%9F%E6%9C%BA\n外部連結: [虚拟机] /wiki/%E8%99%9A%E6%8B%9F%E6%9C%BA\n外部連結: [虚拟机] /wiki/%E8%99%9A%E6%8B%9F%E6%9C%BA\n外部連結: [虚拟机] /wiki/%E8%99%9A%E6%8B%9F%E6%9C%BA\n外部連結: [虚拟机] /wiki/%E8%99%9A%E6%8B%9F%E6%9C%BA\n外部連結: [虚拟机] /wiki/%E8%99%9A%E6%8B%9F%E6%9C%BA\n外部連結: [虚拟机] /wiki/%E8%99%9A%E6%8B%9F%E6%9C%BA\n外部連結: [虚拟机] /wiki/%E8%99%9A%E6%8B%9F%E6%9C%BA\n外部連結: [虚拟机] /wiki/%E8%99%9A%E6%8B%9F%E6%9C%BA\n外部連結: [虚拟机] /wiki/%E8%99%9A%E6%8B%9F%E6%9C%BA\n外部連結: [虚拟机] /wiki/%E8%99%9A%E6%8B%9F%E6%9C%BA\n外部連結: [虚拟机] /wiki/%E8%99%9A%E6%8B%9F%E6%9C%BA\n外部連結: [虚拟机] /wiki/%E8%99%9A%E6%8B%9F%E6%9C%BA\n外部連結: [虚拟机] /wiki/%E8%99%9A%E6%8B%9F%E6%9C%BA\n外部連結: [虚拟机] /wiki/%E8%99%9A%E6%8B%9F%E6%9C%BA\n外部連結: [虚拟机] /wiki/%E8%99%9A%E6%8B%9F%E6%9C%BA\n外部連結: [虚拟机] /wiki/%E8%99%9A%E6%8B%9F%E6%9C%BA\n外部連結: [虚拟机] /wiki/%E8%99%9A%E6%8B%9F%E6%9C%BA\n外部連結: [虚拟机] /wiki/%E8%99%9A%E6%8B%9F%E6%9C%BA\n外部連結: [虚拟机] /wiki/%E8%99%9A%E6%8B%9F%E6%9C%BA\n外部連結: [虚拟机] /wiki/%E8%99%9A%E6%8B%9F%E6%9C%BA\n外部連結: [虚拟机] /wiki/%E8%99%9A%E6%8B%9F%E6%9C%BA\n外部連結: [虚拟机] /wiki/%E8%99%9A%E6%8B%9F%E6%9C%BA\n外部連結: [虚拟机] /wiki/%E8%99%9A%E6%8B%9F%E6%9C%BA\n外部連結: [虚拟机] /wiki/%E8%99%9A%E6%8B%9F%E6%9C%BA\n外部連結: [虚拟机] /wiki/%E8%99%9A%E6%8B%9F%E6%9C%BA\n外部連結: [虚拟机] /wiki/%E8%99%9A%E6%8B%9F%E6%9C%BA\n外部連結: [虚拟机] /wiki/%E8%99%9A%E6%8B%9F%E6%9C%BA\n外部連結: [虚拟机] /wiki/%E8%99%9A%E6%8B%9F%E6%9C%BA\n外部連結: [虚拟机] /wiki/%E8%99%9A%E6%8B%9F%E6%9C%BA\n外部連結: [虚拟机] /wiki/%E8%99%9A%E6%8B%9F%E6%9C%BA\n外部連結: [虚拟机] /wiki/%E8%99%9A%E6%8B%9F%E6%9C%BA\n外部連結: [虚拟机] /wiki/%E8%99%9A%E6%8B%9F%E6%9C%BA\n外部連結: [虚拟机] /wiki/%E8%99%9A%E6%8B%9F%E6%9C%BA\n外部連結: [虚拟机] /wiki/%E8%99%9A%E6%8B%9F%E6%9C%BA\n外部連結: [虚拟机] /wiki/%E8%99%9A%E6%8B%9F%E6%9C%BA\n外部連結: [虚拟机] /wiki/%E8%99%9A%E6%8B%9F%E6%9C%BA\n外部連結: [虚拟机] /wiki/%E8%99%9A%E6%8B%9F%E6%9C%BA\n外部連結: [虚拟机] /wiki/%E8%99%9A%E6%8B%9F%E6%9C%BA\n外部連結: [虚拟机] /wiki/%E8%99%9A%E6%8B%9F%E6%9C%BA\n外部連結: [虚拟机] /wiki/%E8%99%9A%E6%8B%9F%E6%9C%BA\n外部連結: [虚拟机] /wiki/%E8%99%9A%E6%8B%9F%E6%9C%BA\n外部連結: [虚拟机] /wiki/%E8%99%9A%E6%8B%9F%E6%9C%BA\n外部連結: [虚拟机] /wiki/%E8%99%9A%E6%8B%9F%E6%9C%BA\n外部連結: [虚拟机] /wiki/%E8%99%9A%E6%8B%9F%E6%9C%BA\n遞迴層[2] - /wiki/File:Content_translation-zh-hans-Screenshot-1.png ()\n"
    },
    {
     "output_type": "error",
     "ename": "AttributeError",
     "evalue": "'NavigableString' object has no attribute 'find_all'",
     "traceback": [
      "\u001b[1;31m---------------------------------------------------------------------------\u001b[0m",
      "\u001b[1;31mAttributeError\u001b[0m                            Traceback (most recent call last)",
      "\u001b[1;32m<ipython-input-81-4d1eb3ffa699>\u001b[0m in \u001b[0;36m<module>\u001b[1;34m\u001b[0m\n\u001b[0;32m      3\u001b[0m    \u001b[0mos\u001b[0m\u001b[1;33m.\u001b[0m\u001b[0mmkdir\u001b[0m\u001b[1;33m(\u001b[0m\u001b[0mpath\u001b[0m\u001b[1;33m)\u001b[0m\u001b[1;33m\u001b[0m\u001b[1;33m\u001b[0m\u001b[0m\n\u001b[0;32m      4\u001b[0m \u001b[0mmax_recursive_depth\u001b[0m\u001b[1;33m=\u001b[0m\u001b[1;36m2\u001b[0m\u001b[1;33m\u001b[0m\u001b[1;33m\u001b[0m\u001b[0m\n\u001b[1;32m----> 5\u001b[1;33m \u001b[0mWikiArticle\u001b[0m\u001b[1;33m(\u001b[0m\u001b[0mroot_keyword_link\u001b[0m\u001b[1;33m,\u001b[0m\u001b[0mkeyword\u001b[0m\u001b[1;33m,\u001b[0m\u001b[1;36m0\u001b[0m\u001b[1;33m)\u001b[0m\u001b[1;33m\u001b[0m\u001b[1;33m\u001b[0m\u001b[0m\n\u001b[0m",
      "\u001b[1;32m<ipython-input-80-50fd3a516529>\u001b[0m in \u001b[0;36mWikiArticle\u001b[1;34m(key_word_link, key_word, recursive)\u001b[0m\n\u001b[0;32m     23\u001b[0m \u001b[1;33m\u001b[0m\u001b[0m\n\u001b[0;32m     24\u001b[0m             \u001b[1;32mfor\u001b[0m \u001b[0mk\u001b[0m\u001b[1;33m,\u001b[0m \u001b[0mv\u001b[0m \u001b[1;32min\u001b[0m \u001b[0mexternal_link_dict\u001b[0m\u001b[1;33m.\u001b[0m\u001b[0mitems\u001b[0m\u001b[1;33m(\u001b[0m\u001b[1;33m)\u001b[0m\u001b[1;33m:\u001b[0m\u001b[1;33m\u001b[0m\u001b[1;33m\u001b[0m\u001b[0m\n\u001b[1;32m---> 25\u001b[1;33m                 \u001b[0mWikiArticle\u001b[0m\u001b[1;33m(\u001b[0m\u001b[0mkey_word\u001b[0m\u001b[1;33m=\u001b[0m \u001b[0mk\u001b[0m\u001b[1;33m,\u001b[0m\u001b[0mkey_word_link\u001b[0m\u001b[1;33m=\u001b[0m \u001b[0mv\u001b[0m\u001b[1;33m,\u001b[0m \u001b[0mrecursive\u001b[0m\u001b[1;33m=\u001b[0m\u001b[0mrecursive\u001b[0m\u001b[1;33m)\u001b[0m\u001b[1;33m\u001b[0m\u001b[1;33m\u001b[0m\u001b[0m\n\u001b[0m",
      "\u001b[1;32m<ipython-input-80-50fd3a516529>\u001b[0m in \u001b[0;36mWikiArticle\u001b[1;34m(key_word_link, key_word, recursive)\u001b[0m\n\u001b[0;32m     23\u001b[0m \u001b[1;33m\u001b[0m\u001b[0m\n\u001b[0;32m     24\u001b[0m             \u001b[1;32mfor\u001b[0m \u001b[0mk\u001b[0m\u001b[1;33m,\u001b[0m \u001b[0mv\u001b[0m \u001b[1;32min\u001b[0m \u001b[0mexternal_link_dict\u001b[0m\u001b[1;33m.\u001b[0m\u001b[0mitems\u001b[0m\u001b[1;33m(\u001b[0m\u001b[1;33m)\u001b[0m\u001b[1;33m:\u001b[0m\u001b[1;33m\u001b[0m\u001b[1;33m\u001b[0m\u001b[0m\n\u001b[1;32m---> 25\u001b[1;33m                 \u001b[0mWikiArticle\u001b[0m\u001b[1;33m(\u001b[0m\u001b[0mkey_word\u001b[0m\u001b[1;33m=\u001b[0m \u001b[0mk\u001b[0m\u001b[1;33m,\u001b[0m\u001b[0mkey_word_link\u001b[0m\u001b[1;33m=\u001b[0m \u001b[0mv\u001b[0m\u001b[1;33m,\u001b[0m \u001b[0mrecursive\u001b[0m\u001b[1;33m=\u001b[0m\u001b[0mrecursive\u001b[0m\u001b[1;33m)\u001b[0m\u001b[1;33m\u001b[0m\u001b[1;33m\u001b[0m\u001b[0m\n\u001b[0m",
      "\u001b[1;32m<ipython-input-80-50fd3a516529>\u001b[0m in \u001b[0;36mWikiArticle\u001b[1;34m(key_word_link, key_word, recursive)\u001b[0m\n\u001b[0;32m     14\u001b[0m          \u001b[0mexternal_link_dict\u001b[0m \u001b[1;33m=\u001b[0m \u001b[0mdict\u001b[0m\u001b[1;33m(\u001b[0m\u001b[1;33m{\u001b[0m\u001b[1;33m}\u001b[0m\u001b[1;33m)\u001b[0m\u001b[1;33m\u001b[0m\u001b[1;33m\u001b[0m\u001b[0m\n\u001b[0;32m     15\u001b[0m          \u001b[1;32mfor\u001b[0m \u001b[0mlink\u001b[0m \u001b[1;32min\u001b[0m \u001b[0mcontent\u001b[0m\u001b[1;33m:\u001b[0m\u001b[1;33m\u001b[0m\u001b[1;33m\u001b[0m\u001b[0m\n\u001b[1;32m---> 16\u001b[1;33m             \u001b[0ma_list\u001b[0m \u001b[1;33m=\u001b[0m \u001b[0mlink\u001b[0m\u001b[1;33m.\u001b[0m\u001b[0mfind_all\u001b[0m\u001b[1;33m(\u001b[0m\u001b[1;34m'a'\u001b[0m\u001b[1;33m,\u001b[0m\u001b[0mhref\u001b[0m\u001b[1;33m=\u001b[0m\u001b[0mre\u001b[0m\u001b[1;33m.\u001b[0m\u001b[0mcompile\u001b[0m\u001b[1;33m(\u001b[0m\u001b[1;34m'^(/wiki/)(\\S)*$'\u001b[0m\u001b[1;33m)\u001b[0m\u001b[1;33m)\u001b[0m\u001b[1;33m\u001b[0m\u001b[1;33m\u001b[0m\u001b[0m\n\u001b[0m\u001b[0;32m     17\u001b[0m             \u001b[1;32mfor\u001b[0m \u001b[0ma\u001b[0m \u001b[1;32min\u001b[0m \u001b[0ma_list\u001b[0m\u001b[1;33m:\u001b[0m\u001b[1;33m\u001b[0m\u001b[1;33m\u001b[0m\u001b[0m\n\u001b[0;32m     18\u001b[0m                 \u001b[0mexternal_link_dict\u001b[0m\u001b[1;33m[\u001b[0m\u001b[0ma\u001b[0m\u001b[1;33m.\u001b[0m\u001b[0mget_text\u001b[0m\u001b[1;33m(\u001b[0m\u001b[1;33m)\u001b[0m\u001b[1;33m]\u001b[0m \u001b[1;33m=\u001b[0m \u001b[0ma\u001b[0m\u001b[1;33m[\u001b[0m\u001b[1;34m'href'\u001b[0m\u001b[1;33m]\u001b[0m\u001b[1;33m\u001b[0m\u001b[1;33m\u001b[0m\u001b[0m\n",
      "\u001b[1;32m~\\Anaconda3\\lib\\site-packages\\bs4\\element.py\u001b[0m in \u001b[0;36m__getattr__\u001b[1;34m(self, attr)\u001b[0m\n\u001b[0;32m    644\u001b[0m             raise AttributeError(\n\u001b[0;32m    645\u001b[0m                 \"'%s' object has no attribute '%s'\" % (\n\u001b[1;32m--> 646\u001b[1;33m                     self.__class__.__name__, attr))\n\u001b[0m\u001b[0;32m    647\u001b[0m \u001b[1;33m\u001b[0m\u001b[0m\n\u001b[0;32m    648\u001b[0m     \u001b[1;32mdef\u001b[0m \u001b[0moutput_ready\u001b[0m\u001b[1;33m(\u001b[0m\u001b[0mself\u001b[0m\u001b[1;33m,\u001b[0m \u001b[0mformatter\u001b[0m\u001b[1;33m=\u001b[0m\u001b[1;34m\"minimal\"\u001b[0m\u001b[1;33m)\u001b[0m\u001b[1;33m:\u001b[0m\u001b[1;33m\u001b[0m\u001b[1;33m\u001b[0m\u001b[0m\n",
      "\u001b[1;31mAttributeError\u001b[0m: 'NavigableString' object has no attribute 'find_all'"
     ]
    }
   ],
   "source": [
    "path = \"C:\\\\Users\\\\User\\\\Documents\\\\GitHub\\\\2nd-PyCrawlerMarathon\\\\homework\\\\Day016\\\\WikiArticle\"\n",
    "if not os.path.isdir(path):\n",
    "   os.mkdir(path)\n",
    "max_recursive_depth=2\n",
    "WikiArticle(root_keyword_link,keyword,0)"
   ]
  },
  {
   "cell_type": "code",
   "execution_count": null,
   "metadata": {},
   "outputs": [],
   "source": []
  },
  {
   "cell_type": "code",
   "execution_count": null,
   "metadata": {},
   "outputs": [],
   "source": []
  }
 ],
 "metadata": {
  "kernelspec": {
   "display_name": "Python 3",
   "language": "python",
   "name": "python3"
  },
  "language_info": {
   "codemirror_mode": {
    "name": "ipython",
    "version": 3
   },
   "file_extension": ".py",
   "mimetype": "text/x-python",
   "name": "python",
   "nbconvert_exporter": "python",
   "pygments_lexer": "ipython3",
   "version": "3.7.4-final"
  }
 },
 "nbformat": 4,
 "nbformat_minor": 2
}