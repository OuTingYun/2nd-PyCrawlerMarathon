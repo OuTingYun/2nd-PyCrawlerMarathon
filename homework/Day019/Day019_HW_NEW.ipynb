{
 "nbformat": 4,
 "nbformat_minor": 2,
 "metadata": {
  "language_info": {
   "name": "python",
   "codemirror_mode": {
    "name": "ipython",
    "version": 3
   },
   "version": "3.7.6-final"
  },
  "orig_nbformat": 2,
  "file_extension": ".py",
  "mimetype": "text/x-python",
  "name": "python",
  "npconvert_exporter": "python",
  "pygments_lexer": "ipython3",
  "version": 3,
  "kernelspec": {
   "name": "python3",
   "display_name": "Python 3"
  }
 },
 "cells": [
  {
   "cell_type": "code",
   "execution_count": 48,
   "metadata": {},
   "outputs": [],
   "source": [
    "from selenium import webdriver\n",
    "from selenium.webdriver.support.ui import Select\n",
    "from bs4 import BeautifulSoup\n",
    "from time import sleep\n",
    "import pandas as pd\n",
    ""
   ]
  },
  {
   "cell_type": "code",
   "execution_count": 51,
   "metadata": {
    "tags": [
     "outputPrepend"
    ]
   },
   "outputs": [
    {
     "output_type": "stream",
     "name": "stdout",
     "text": "2019/01\n2019/02\n2019/03\n2019/04\n2019/05\n2019/06\n2019/07\n2019/08\n2019/09\n2019/10\n2019/11\n2019/12\n"
    },
    {
     "output_type": "execute_result",
     "data": {
      "text/plain": "                      2019/01 2019/02 2019/03 2019/04 2019/05 2019/06 2019/07  \\\n二氧化硫SO2(ppb)              4.1     3.3     3.9     3.4     3.3     4.1     4.0   \n一氧化碳CO(ppm)              0.67    0.48    0.50    0.39    0.38    0.24    0.28   \n二氧化碳CO2(ppm)                -       -       -       -       -       -       -   \n臭氧O3(ppb)                24.7    29.4    29.2    30.4    28.6    16.3    15.5   \n懸浮微粒PM10(μg/m3)            78      57      52      42      35      20      24   \n細懸浮微粒PM2.5(μg/m3)          40      28      25      20      16       6       8   \n氮氧化物NOx(ppb)            38.01   25.62   27.84   21.83   22.55   17.15   17.71   \n一氧化氮NO(ppb)              7.95    4.76    5.41    4.16    4.58    5.08    5.16   \n二氧化氮NO2(ppb)            30.06   20.86   22.43   17.68   17.98   12.08   12.54   \n總碳氫化合物THC(ppm)          2.270   2.113   2.123   2.023   2.020   1.921   1.932   \n非甲烷碳氫化合物NMHC(ppm)       0.269   0.171   0.184   0.142   0.157   0.133   0.136   \n甲烷CH4(ppm)              2.002   1.942   1.939   1.880   1.862   1.788   1.796   \n風速WIND_SPEED(m/sec)      1.70    1.92    1.88    1.98    1.70    1.82    1.69   \n小時風速值WS_HR(m/sec)        1.38    1.55    1.54    1.65    1.42    1.49    1.36   \n溫度AMB_TEMP(℃)           22.71   24.09   24.23   26.83   27.29   29.64   29.39   \n降雨強度RAIN_INT(㎜)          0.50    5.07    1.60    4.46    3.29    5.28    4.52   \n酸雨PH_RAIN(pH)            6.45    6.30    5.10    4.55    4.81    4.99    4.82   \n相對濕度RH(percent)         70.47   70.93   74.69   75.00   72.88   71.95   73.66   \n導電度RAIN_COND(μmho/cm)   98.52   48.09   49.92   56.49   53.64   69.83   38.43   \n小時風向值                    4.10    3.30    3.90    3.40    3.30    4.10    4.00   \n\n                      2019/08 2019/09 2019/10 2019/11 2019/12  \n二氧化硫SO2(ppb)              4.6     3.5     3.2     3.6     1.8  \n一氧化碳CO(ppm)              0.33    0.32    0.36    0.46    0.25  \n二氧化碳CO2(ppm)                -       -       -       -       -  \n臭氧O3(ppb)                19.7    35.7    44.0    34.8    42.8  \n懸浮微粒PM10(μg/m3)            27      35      50      63      26  \n細懸浮微粒PM2.5(μg/m3)          10      16      27      29       9  \n氮氧化物NOx(ppb)            19.66   18.66   19.50   28.99    9.61  \n一氧化氮NO(ppb)              5.17    3.63    3.50    5.21    2.22  \n二氧化氮NO2(ppb)            14.49   15.03   15.99   23.78    7.39  \n總碳氫化合物THC(ppm)          1.973   1.983   2.048   2.149       -  \n非甲烷碳氫化合物NMHC(ppm)       0.152   0.128   0.132   0.206       -  \n甲烷CH4(ppm)              1.822   1.855   1.916   1.943       -  \n風速WIND_SPEED(m/sec)      1.81    1.65    1.64    1.53    2.67  \n小時風速值WS_HR(m/sec)        1.51    1.36    1.39    1.29    2.14  \n溫度AMB_TEMP(℃)           28.86   28.80   27.59   24.83   22.50  \n降雨強度RAIN_INT(㎜)          5.01    4.33    6.13    0.63       -  \n酸雨PH_RAIN(pH)            4.85    4.45    4.18    5.62       -  \n相對濕度RH(percent)         78.53   72.38   69.27   67.96   68.14  \n導電度RAIN_COND(μmho/cm)   41.37   49.69   46.86   40.95       -  \n小時風向值                    4.60    3.50    3.20    3.60    1.80  ",
      "text/html": "<div>\n<style scoped>\n    .dataframe tbody tr th:only-of-type {\n        vertical-align: middle;\n    }\n\n    .dataframe tbody tr th {\n        vertical-align: top;\n    }\n\n    .dataframe thead th {\n        text-align: right;\n    }\n</style>\n<table border=\"1\" class=\"dataframe\">\n  <thead>\n    <tr style=\"text-align: right;\">\n      <th></th>\n      <th>2019/01</th>\n      <th>2019/02</th>\n      <th>2019/03</th>\n      <th>2019/04</th>\n      <th>2019/05</th>\n      <th>2019/06</th>\n      <th>2019/07</th>\n      <th>2019/08</th>\n      <th>2019/09</th>\n      <th>2019/10</th>\n      <th>2019/11</th>\n      <th>2019/12</th>\n    </tr>\n  </thead>\n  <tbody>\n    <tr>\n      <th>二氧化硫SO2(ppb)</th>\n      <td>4.1</td>\n      <td>3.3</td>\n      <td>3.9</td>\n      <td>3.4</td>\n      <td>3.3</td>\n      <td>4.1</td>\n      <td>4.0</td>\n      <td>4.6</td>\n      <td>3.5</td>\n      <td>3.2</td>\n      <td>3.6</td>\n      <td>1.8</td>\n    </tr>\n    <tr>\n      <th>一氧化碳CO(ppm)</th>\n      <td>0.67</td>\n      <td>0.48</td>\n      <td>0.50</td>\n      <td>0.39</td>\n      <td>0.38</td>\n      <td>0.24</td>\n      <td>0.28</td>\n      <td>0.33</td>\n      <td>0.32</td>\n      <td>0.36</td>\n      <td>0.46</td>\n      <td>0.25</td>\n    </tr>\n    <tr>\n      <th>二氧化碳CO2(ppm)</th>\n      <td>-</td>\n      <td>-</td>\n      <td>-</td>\n      <td>-</td>\n      <td>-</td>\n      <td>-</td>\n      <td>-</td>\n      <td>-</td>\n      <td>-</td>\n      <td>-</td>\n      <td>-</td>\n      <td>-</td>\n    </tr>\n    <tr>\n      <th>臭氧O3(ppb)</th>\n      <td>24.7</td>\n      <td>29.4</td>\n      <td>29.2</td>\n      <td>30.4</td>\n      <td>28.6</td>\n      <td>16.3</td>\n      <td>15.5</td>\n      <td>19.7</td>\n      <td>35.7</td>\n      <td>44.0</td>\n      <td>34.8</td>\n      <td>42.8</td>\n    </tr>\n    <tr>\n      <th>懸浮微粒PM10(μg/m3)</th>\n      <td>78</td>\n      <td>57</td>\n      <td>52</td>\n      <td>42</td>\n      <td>35</td>\n      <td>20</td>\n      <td>24</td>\n      <td>27</td>\n      <td>35</td>\n      <td>50</td>\n      <td>63</td>\n      <td>26</td>\n    </tr>\n    <tr>\n      <th>細懸浮微粒PM2.5(μg/m3)</th>\n      <td>40</td>\n      <td>28</td>\n      <td>25</td>\n      <td>20</td>\n      <td>16</td>\n      <td>6</td>\n      <td>8</td>\n      <td>10</td>\n      <td>16</td>\n      <td>27</td>\n      <td>29</td>\n      <td>9</td>\n    </tr>\n    <tr>\n      <th>氮氧化物NOx(ppb)</th>\n      <td>38.01</td>\n      <td>25.62</td>\n      <td>27.84</td>\n      <td>21.83</td>\n      <td>22.55</td>\n      <td>17.15</td>\n      <td>17.71</td>\n      <td>19.66</td>\n      <td>18.66</td>\n      <td>19.50</td>\n      <td>28.99</td>\n      <td>9.61</td>\n    </tr>\n    <tr>\n      <th>一氧化氮NO(ppb)</th>\n      <td>7.95</td>\n      <td>4.76</td>\n      <td>5.41</td>\n      <td>4.16</td>\n      <td>4.58</td>\n      <td>5.08</td>\n      <td>5.16</td>\n      <td>5.17</td>\n      <td>3.63</td>\n      <td>3.50</td>\n      <td>5.21</td>\n      <td>2.22</td>\n    </tr>\n    <tr>\n      <th>二氧化氮NO2(ppb)</th>\n      <td>30.06</td>\n      <td>20.86</td>\n      <td>22.43</td>\n      <td>17.68</td>\n      <td>17.98</td>\n      <td>12.08</td>\n      <td>12.54</td>\n      <td>14.49</td>\n      <td>15.03</td>\n      <td>15.99</td>\n      <td>23.78</td>\n      <td>7.39</td>\n    </tr>\n    <tr>\n      <th>總碳氫化合物THC(ppm)</th>\n      <td>2.270</td>\n      <td>2.113</td>\n      <td>2.123</td>\n      <td>2.023</td>\n      <td>2.020</td>\n      <td>1.921</td>\n      <td>1.932</td>\n      <td>1.973</td>\n      <td>1.983</td>\n      <td>2.048</td>\n      <td>2.149</td>\n      <td>-</td>\n    </tr>\n    <tr>\n      <th>非甲烷碳氫化合物NMHC(ppm)</th>\n      <td>0.269</td>\n      <td>0.171</td>\n      <td>0.184</td>\n      <td>0.142</td>\n      <td>0.157</td>\n      <td>0.133</td>\n      <td>0.136</td>\n      <td>0.152</td>\n      <td>0.128</td>\n      <td>0.132</td>\n      <td>0.206</td>\n      <td>-</td>\n    </tr>\n    <tr>\n      <th>甲烷CH4(ppm)</th>\n      <td>2.002</td>\n      <td>1.942</td>\n      <td>1.939</td>\n      <td>1.880</td>\n      <td>1.862</td>\n      <td>1.788</td>\n      <td>1.796</td>\n      <td>1.822</td>\n      <td>1.855</td>\n      <td>1.916</td>\n      <td>1.943</td>\n      <td>-</td>\n    </tr>\n    <tr>\n      <th>風速WIND_SPEED(m/sec)</th>\n      <td>1.70</td>\n      <td>1.92</td>\n      <td>1.88</td>\n      <td>1.98</td>\n      <td>1.70</td>\n      <td>1.82</td>\n      <td>1.69</td>\n      <td>1.81</td>\n      <td>1.65</td>\n      <td>1.64</td>\n      <td>1.53</td>\n      <td>2.67</td>\n    </tr>\n    <tr>\n      <th>小時風速值WS_HR(m/sec)</th>\n      <td>1.38</td>\n      <td>1.55</td>\n      <td>1.54</td>\n      <td>1.65</td>\n      <td>1.42</td>\n      <td>1.49</td>\n      <td>1.36</td>\n      <td>1.51</td>\n      <td>1.36</td>\n      <td>1.39</td>\n      <td>1.29</td>\n      <td>2.14</td>\n    </tr>\n    <tr>\n      <th>溫度AMB_TEMP(℃)</th>\n      <td>22.71</td>\n      <td>24.09</td>\n      <td>24.23</td>\n      <td>26.83</td>\n      <td>27.29</td>\n      <td>29.64</td>\n      <td>29.39</td>\n      <td>28.86</td>\n      <td>28.80</td>\n      <td>27.59</td>\n      <td>24.83</td>\n      <td>22.50</td>\n    </tr>\n    <tr>\n      <th>降雨強度RAIN_INT(㎜)</th>\n      <td>0.50</td>\n      <td>5.07</td>\n      <td>1.60</td>\n      <td>4.46</td>\n      <td>3.29</td>\n      <td>5.28</td>\n      <td>4.52</td>\n      <td>5.01</td>\n      <td>4.33</td>\n      <td>6.13</td>\n      <td>0.63</td>\n      <td>-</td>\n    </tr>\n    <tr>\n      <th>酸雨PH_RAIN(pH)</th>\n      <td>6.45</td>\n      <td>6.30</td>\n      <td>5.10</td>\n      <td>4.55</td>\n      <td>4.81</td>\n      <td>4.99</td>\n      <td>4.82</td>\n      <td>4.85</td>\n      <td>4.45</td>\n      <td>4.18</td>\n      <td>5.62</td>\n      <td>-</td>\n    </tr>\n    <tr>\n      <th>相對濕度RH(percent)</th>\n      <td>70.47</td>\n      <td>70.93</td>\n      <td>74.69</td>\n      <td>75.00</td>\n      <td>72.88</td>\n      <td>71.95</td>\n      <td>73.66</td>\n      <td>78.53</td>\n      <td>72.38</td>\n      <td>69.27</td>\n      <td>67.96</td>\n      <td>68.14</td>\n    </tr>\n    <tr>\n      <th>導電度RAIN_COND(μmho/cm)</th>\n      <td>98.52</td>\n      <td>48.09</td>\n      <td>49.92</td>\n      <td>56.49</td>\n      <td>53.64</td>\n      <td>69.83</td>\n      <td>38.43</td>\n      <td>41.37</td>\n      <td>49.69</td>\n      <td>46.86</td>\n      <td>40.95</td>\n      <td>-</td>\n    </tr>\n    <tr>\n      <th>小時風向值</th>\n      <td>4.10</td>\n      <td>3.30</td>\n      <td>3.90</td>\n      <td>3.40</td>\n      <td>3.30</td>\n      <td>4.10</td>\n      <td>4.00</td>\n      <td>4.60</td>\n      <td>3.50</td>\n      <td>3.20</td>\n      <td>3.60</td>\n      <td>1.80</td>\n    </tr>\n  </tbody>\n</table>\n</div>"
     },
     "metadata": {},
     "execution_count": 51
    }
   ],
   "source": [
    "# brower=webdriver.Chrome(executable_path='chromedriver')\n",
    "# brower.get(\"http://taqm.epa.gov.tw/taqm/tw/MonthlyAverage.aspx\")\n",
    "# # seleSite=Select(brower.find_element_by_id(\"ctl05_ddlSite\"))\n",
    "# print(brower.page_source)\n",
    "table_create={}\n",
    "browser = webdriver.Chrome(executable_path='chromedriver')\n",
    "browser.implicitly_wait(40)\n",
    "\n",
    "# print(browser.page_source)\n",
    "for mon in range(1,13):\n",
    "    browser.get(\"https://erdb.epa.gov.tw/DataRepository/EnvMonitor/AirQualityMonitorMonData.aspx?topic1=%E5%A4%A7%E6%B0%A3&topic2=%E7%92%B0%E5%A2%83%E5%8F%8A%E7%94%9F%E6%85%8B%E7%9B%A3%E6%B8%AC&subject=%E7%A9%BA%E6%B0%A3%E5%93%81%E8%B3%AA\")\n",
    "    name=[]\n",
    "    num=[]\n",
    "    Space = Select(browser.find_element_by_id(\"ctl00_ContentPlaceHolder1_ucSearchCondition_ddlAirArea\"))\n",
    "    Space.select_by_value('6')\n",
    "    Location=Select(browser.find_element_by_id(\"ctl00_ContentPlaceHolder1_ucSearchCondition_ddlCounty\"))\n",
    "    Location.select_by_value(\"64000\")\n",
    "    Block=Select(browser.find_element_by_id(\"ctl00_ContentPlaceHolder1_ucSearchCondition_ddlTownship\"))\n",
    "    Block.select_by_value(\"64000110\")\n",
    "    time=Select(browser.find_element_by_id(\"ctl00_ContentPlaceHolder1_ucSearchCondition_ddlYearE\"))\n",
    "    time.select_by_value(\"2019\")\n",
    "    m=Select(browser.find_element_by_id(\"ctl00_ContentPlaceHolder1_ucSearchCondition_ddlMonthE\"))\n",
    "    c_mon=\"\"\n",
    "    if mon<10:\n",
    "        c_mon=\"0\"+str(mon)\n",
    "    else:\n",
    "        c_mon=str(mon)\n",
    "    m.select_by_value(c_mon)\n",
    "    browser.find_element_by_id(\"ctl00_ContentPlaceHolder1_imgSearch\").click()\n",
    "    browser.implicitly_wait(20)\n",
    "    soup=BeautifulSoup(browser.page_source)\n",
    "    table=soup.find('table',class_=\"tbResult gvColspan\")\n",
    "    find_tr=table.find_all('tr')\n",
    "    if len(find_tr)<3:\n",
    "        num=find_tr[1].find_all('td',class_=\"IsNA\")\n",
    "    else :\n",
    "        num=find_tr[9].find_all('td',class_=\"IsNA\")\n",
    "    name=table.find_all('th',attrs={\"scope\":\"col\"})[3:]\n",
    "    day=\"2019/\"+c_mon\n",
    "    print(day)\n",
    "    table_create[day]={}\n",
    "    for i in range(0,len(name)):\n",
    "        table_create[day][name[i].text]=num[i].text\n",
    "pd.DataFrame(table_create)\n",
    ""
   ]
  },
  {
   "cell_type": "code",
   "execution_count": null,
   "metadata": {},
   "outputs": [],
   "source": []
  },
  {
   "cell_type": "code",
   "execution_count": null,
   "metadata": {},
   "outputs": [],
   "source": []
  }
 ]
}