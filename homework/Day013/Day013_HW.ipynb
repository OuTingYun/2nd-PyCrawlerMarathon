{
 "cells": [
  {
   "cell_type": "markdown",
   "metadata": {},
   "source": [
    "# PTT 網路爬蟲實作練習\n",
    "\n",
    "\n",
    "* 能夠利用 Request + BeatifulSour 撰寫爬蟲，並存放到合適的資料結構\n"
   ]
  },
  {
   "cell_type": "markdown",
   "metadata": {},
   "source": [
    "## 作業目標\n",
    "\n",
    "根據範例 ，完成以下問題：\n",
    "\n",
    "* ① 印出最新文章的「作者」「標題」「時間」\n",
    "* ② 印出第一頁所有文章的「作者」「標題」「時間」\n"
   ]
  },
  {
   "cell_type": "code",
   "execution_count": 4,
   "metadata": {},
   "outputs": [],
   "source": [
    "import requests\n",
    "from bs4 import BeautifulSoup\n",
    "\n",
    "url='https://www.ptt.cc/bbs/NBA/index.html'\n",
    "r=requests.get(url)\n",
    "soup=BeautifulSoup(r.text,\"html5lib\")"
   ]
  },
  {
   "cell_type": "markdown",
   "metadata": {},
   "source": [
    "### ① 印出最新文章的「作者」「標題」「時間」"
   ]
  },
  {
   "cell_type": "code",
   "execution_count": 26,
   "metadata": {},
   "outputs": [
    {
     "output_type": "stream",
     "name": "stdout",
     "text": "作者: kairiyu 標題: [情報] Booker通過遊戲直播所得將全部捐出，私人再捐10萬美元\n作者: fukawa947 標題: [新聞] 人心惶惶！聯盟各隊將不會主動公布確診人\n作者: fukawa947 標題: [花邊] 湖人2員中標　詹皇急發文：洛城要封了大\n作者: - 標題: (已被Vedan刪除) <glthe1>1-1 1-2\n作者: - 標題: (已被Vedan刪除) <stu60001>1-1 1-2\n作者: currykukuo 標題: [情報] 因收益太可觀　記者爆：寧縮球季也不願取消季後賽\n作者: asdfgh0920 標題: [新聞] 嗨喊北京我來了！林書豪「隔離」第一天　\n作者: jjeffrey1015 標題: [新聞] 麥基被影射肺炎檢測呈陽性 妹妹出面闢謠\n作者: Kazmier 標題: [情報] Gobert的客人中有來自疫情高危地區且高燒\n作者: kairiyu 標題: [新聞] 也懂「我OK你先驗」 鵜鶘暫不檢測：讓給需要的人\n作者: thnlkj0665 標題: [花邊] 10萬球迷觀看IG直播 詹姆斯：好想打籃球\n作者: lovea 標題: [花邊] 林書豪：人們常說要保持清醒，做事最重要\n作者: Yui5 標題: [新聞] 美國媒體模擬剩餘賽程 快艇逆轉公鹿奪冠\n作者: Intelnet 標題: [新聞] 前3刀後5刀 老皮悚憶被砍往事：改變了我一\n作者: - 標題: (本文已被刪除) [satelliter]\n作者: thnlkj0665 標題: [情報] Jamal Crawford  40歲生日\n作者: Yui5 標題: [情報] 華盛頓將電視直播巫師2K比賽，首場對公鹿\n作者: Vedan 標題: [公告] 板規v6.8\n作者: qazwsx879345 標題: [公告] 版主上任相關事項 \n作者: Acetoxy 標題: [情報] SEASON Schedule 賽程 March 19–20\n作者: Vedan 標題: [公告] 第一次被退文，可在三天後刪除退文\n作者: Vedan 標題: Fw: [請假] NBA板\n"
    }
   ],
   "source": [
    "mylist=[{'author':item.find(class_='author').text,'title':item.find(class_='title').text.replace(\"\\n\",\"\").replace(\"\\t\",\"\"),'time':item.find(class_='date').text} for item in soup.find_all(class_='r-ent')]\n",
    "for item in mylist:\n",
    "    print('作者:',item['author'],\"標題:\",item['title'])"
   ]
  },
  {
   "cell_type": "markdown",
   "metadata": {},
   "source": [
    "### ② 印出第一頁所有文章的「作者」「標題」「時間」"
   ]
  },
  {
   "cell_type": "code",
   "execution_count": 29,
   "metadata": {},
   "outputs": [
    {
     "output_type": "stream",
     "name": "stdout",
     "text": "作者: kairiyu 標題: [情報] Booker通過遊戲直播所得將全部捐出，私人再捐10萬美元 時間:  3/20\n作者: fukawa947 標題: [新聞] 人心惶惶！聯盟各隊將不會主動公布確診人 時間:  3/20\n作者: fukawa947 標題: [花邊] 湖人2員中標　詹皇急發文：洛城要封了大 時間:  3/20\n作者: - 標題: (已被Vedan刪除) <glthe1>1-1 1-2 時間:  3/20\n作者: - 標題: (已被Vedan刪除) <stu60001>1-1 1-2 時間:  3/20\n作者: currykukuo 標題: [情報] 因收益太可觀　記者爆：寧縮球季也不願取消季後賽 時間:  3/20\n作者: asdfgh0920 標題: [新聞] 嗨喊北京我來了！林書豪「隔離」第一天　 時間:  3/20\n作者: jjeffrey1015 標題: [新聞] 麥基被影射肺炎檢測呈陽性 妹妹出面闢謠 時間:  3/20\n作者: Kazmier 標題: [情報] Gobert的客人中有來自疫情高危地區且高燒 時間:  3/20\n作者: kairiyu 標題: [新聞] 也懂「我OK你先驗」 鵜鶘暫不檢測：讓給需要的人 時間:  3/20\n作者: thnlkj0665 標題: [花邊] 10萬球迷觀看IG直播 詹姆斯：好想打籃球 時間:  3/20\n作者: lovea 標題: [花邊] 林書豪：人們常說要保持清醒，做事最重要 時間:  3/20\n作者: Yui5 標題: [新聞] 美國媒體模擬剩餘賽程 快艇逆轉公鹿奪冠 時間:  3/20\n作者: Intelnet 標題: [新聞] 前3刀後5刀 老皮悚憶被砍往事：改變了我一 時間:  3/20\n作者: - 標題: (本文已被刪除) [satelliter] 時間:  3/20\n作者: thnlkj0665 標題: [情報] Jamal Crawford  40歲生日 時間:  3/20\n作者: Yui5 標題: [情報] 華盛頓將電視直播巫師2K比賽，首場對公鹿 時間:  3/20\n作者: Vedan 標題: [公告] 板規v6.8 時間:  5/24\n作者: qazwsx879345 標題: [公告] 版主上任相關事項  時間: 10/25\n作者: Acetoxy 標題: [情報] SEASON Schedule 賽程 March 19–20 時間:  3/02\n作者: Vedan 標題: [公告] 第一次被退文，可在三天後刪除退文 時間:  3/09\n作者: Vedan 標題: Fw: [請假] NBA板 時間:  3/15\n"
    }
   ],
   "source": [
    "for item in mylist:\n",
    "    print('作者:',item['author'],\"標題:\",item['title'],\"時間:\",item['time'])\n",
    ""
   ]
  },
  {
   "cell_type": "markdown",
   "metadata": {},
   "source": [
    "### ③ 試著爬爬看其他版的文章"
   ]
  },
  {
   "cell_type": "code",
   "execution_count": 42,
   "metadata": {},
   "outputs": [
    {
     "output_type": "stream",
     "name": "stdout",
     "text": "\n"
    }
   ],
   "source": [
    "print(\"\")"
   ]
  },
  {
   "cell_type": "code",
   "execution_count": null,
   "metadata": {},
   "outputs": [],
   "source": []
  }
 ],
 "metadata": {
  "kernelspec": {
   "display_name": "Python 3",
   "language": "python",
   "name": "python3"
  },
  "language_info": {
   "codemirror_mode": {
    "name": "ipython",
    "version": 3
   },
   "file_extension": ".py",
   "mimetype": "text/x-python",
   "name": "python",
   "nbconvert_exporter": "python",
   "pygments_lexer": "ipython3",
   "version": "3.6.5"
  }
 },
 "nbformat": 4,
 "nbformat_minor": 2
}